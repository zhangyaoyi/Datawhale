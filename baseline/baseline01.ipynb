{
 "cells": [
  {
   "metadata": {},
   "cell_type": "markdown",
   "source": [
    "**install python packages**\n",
    "\n",
    "!pip install scipy openai tiktoken retry dashscope loguru"
   ]
  },
  {
   "cell_type": "code",
   "metadata": {
    "ExecutionIndicator": {
     "show": true
    },
    "execution": {
     "iopub.execute_input": "2024-07-23T14:31:45.888676Z",
     "iopub.status.busy": "2024-07-23T14:31:45.888353Z",
     "iopub.status.idle": "2024-07-23T14:31:45.896447Z",
     "shell.execute_reply": "2024-07-23T14:31:45.895860Z",
     "shell.execute_reply.started": "2024-07-23T14:31:45.888657Z"
    },
    "tags": []
   },
   "source": [
    "from multiprocessing import Process, Manager\n",
    "import json\n",
    "import os\n",
    "from pprint import pprint\n",
    "import re\n",
    "from tqdm import tqdm\n",
    "import random\n",
    "\n",
    "import uuid\n",
    "import openai\n",
    "import tiktoken\n",
    "import json\n",
    "import numpy as np\n",
    "import requests\n",
    "from retry import retry\n",
    "from scipy import sparse\n",
    "#from rank_bm25 import BM25Okapi\n",
    "#import jieba\n",
    "from http import HTTPStatus\n",
    "import dashscope\n",
    "\n",
    "\n",
    "from concurrent.futures import ThreadPoolExecutor, as_completed\n",
    "from loguru import logger\n",
    "import json\n",
    "import time\n",
    "from tqdm import tqdm\n",
    "\n",
    "logger.remove()  # 移除默认的控制台输出\n",
    "logger.add(\"logs/app_{time:YYYY-MM-DD}.log\", level=\"INFO\", rotation=\"00:00\", retention=\"10 days\", compression=\"zip\")\n",
    "\n",
    "MODEL_NAME = 'qwen2-7b-instruct'"
   ],
   "outputs": [],
   "execution_count": null
  },
  {
   "cell_type": "code",
   "metadata": {
    "execution": {
     "iopub.execute_input": "2024-07-23T14:31:46.343949Z",
     "iopub.status.busy": "2024-07-23T14:31:46.343536Z",
     "iopub.status.idle": "2024-07-23T14:31:46.346843Z",
     "shell.execute_reply": "2024-07-23T14:31:46.346352Z",
     "shell.execute_reply.started": "2024-07-23T14:31:46.343926Z"
    },
    "tags": []
   },
   "source": [
    "# 注意：这里需要填入你的key~ 咱们在第二步申请的。\n",
    "dashscope.api_key=\"sk-e6a29593d7e24d9a88daa5ddf84c9a53\""
   ],
   "outputs": [],
   "execution_count": null
  },
  {
   "cell_type": "markdown",
   "metadata": {},
   "source": [
    "这段代码定义了一个名为 call_qwen_api 的函数，该函数用于调用一个名为 dashscope.Generation 的 API 来生成文本。以下是该代码的功能、用途和特点的详细介绍：\n",
    "\n",
    "* 功能\n",
    "调用 API 生成文本：该函数通过传递一个模型名称 (MODEL_NAME) 和一个查询 (query) 来调用 dashscope.Generation.call 方法，生成相应的文本。\n",
    "处理 API 响应：函数会检查 API 的响应状态码，如果状态码为 HTTPStatus.OK，则提取并返回生成的文本内容。如果状态码不是 HTTPStatus.OK，则打印错误信息并抛出异常。\n",
    "* 用途\n",
    "文本生成：该函数主要用于通过调用外部 API 来生成文本，适用于需要动态生成内容的场景，如聊天机器人、内容创作辅助等。\n",
    "错误处理：通过检查 API 响应状态码并处理错误情况，确保在调用失败时能够及时发现并处理问题。\n",
    "* 特点\n",
    "重试机制：函数使用了 @retry(delay=3, tries=3) 装饰器，这意味着在调用 API 失败时，函数会自动重试最多 3 次，每次重试间隔 3 秒。\n",
    "消息格式：在调用 API 时，设置了 result_format='message'，表示期望的响应格式是消息格式。\n",
    "错误处理：在 API 调用失败时，函数会打印详细的错误信息，包括请求 ID、状态码、错误代码和错误消息，并抛出异常，以便上层调用者能够捕获并处理这些错误。"
   ]
  },
  {
   "cell_type": "code",
   "metadata": {
    "execution": {
     "iopub.execute_input": "2024-07-23T13:12:52.549865Z",
     "iopub.status.busy": "2024-07-23T13:12:52.549484Z",
     "iopub.status.idle": "2024-07-23T13:12:52.553964Z",
     "shell.execute_reply": "2024-07-23T13:12:52.553498Z",
     "shell.execute_reply.started": "2024-07-23T13:12:52.549817Z"
    },
    "tags": []
   },
   "source": [
    "def api_retry(MODEL_NAME, query):\n",
    "    max_retries = 5\n",
    "    retry_delay = 60  # in seconds\n",
    "    attempts = 0\n",
    "    while attempts < max_retries:\n",
    "        try:\n",
    "            return call_qwen_api(MODEL_NAME, query)\n",
    "        except Exception as e:\n",
    "            attempts += 1   \n",
    "            if attempts < max_retries:\n",
    "                logger.warning(f\"Attempt {attempts} failed for text: {query}. Retrying in {retry_delay} seconds...\")\n",
    "                time.sleep(retry_delay)\n",
    "            else:\n",
    "                logger.error(f\"All {max_retries} attempts failed for text: {query}. Error: {e}\")\n",
    "                raise"
   ],
   "outputs": [],
   "execution_count": null
  },
  {
   "cell_type": "code",
   "metadata": {
    "execution": {
     "iopub.execute_input": "2024-07-23T13:12:55.545059Z",
     "iopub.status.busy": "2024-07-23T13:12:55.544701Z",
     "iopub.status.idle": "2024-07-23T13:12:55.549173Z",
     "shell.execute_reply": "2024-07-23T13:12:55.548699Z",
     "shell.execute_reply.started": "2024-07-23T13:12:55.545039Z"
    },
    "tags": []
   },
   "source": [
    "def call_qwen_api(MODEL_NAME, query):\n",
    "    # 这里采用dashscope的api调用模型推理，通过http传输的json封装返回结果\n",
    "    messages = [\n",
    "        {'role': 'user', 'content': query}]\n",
    "    response = dashscope.Generation.call(\n",
    "        MODEL_NAME,\n",
    "        messages=messages,\n",
    "        result_format='message',  # set the result is message format.\n",
    "    )\n",
    "    if response.status_code == HTTPStatus.OK:\n",
    "        # print(response)\n",
    "        return response['output']['choices'][0]['message']['content']\n",
    "    else:\n",
    "        print('Request id: %s, Status code: %s, error code: %s, error message: %s' % (\n",
    "            response.request_id, response.status_code,\n",
    "            response.code, response.message\n",
    "        ))\n",
    "        raise Exception()"
   ],
   "outputs": [],
   "execution_count": null
  },
  {
   "cell_type": "code",
   "metadata": {
    "ExecutionIndicator": {
     "show": true
    },
    "execution": {
     "iopub.execute_input": "2024-07-23T13:12:58.489594Z",
     "iopub.status.busy": "2024-07-23T13:12:58.489254Z",
     "iopub.status.idle": "2024-07-23T13:12:58.493048Z",
     "shell.execute_reply": "2024-07-23T13:12:58.492553Z",
     "shell.execute_reply.started": "2024-07-23T13:12:58.489574Z"
    },
    "tags": []
   },
   "source": [
    "# 这里定义了prompt推理模版\n",
    "\n",
    "def get_prompt(problem, question, options):\n",
    "\n",
    "    options = '\\n'.join(f\"{'ABCDEFG'[i]}. {o}\" for i, o in enumerate(options))\n",
    "\n",
    "    prompt = f\"\"\"你是一个逻辑推理专家，擅长解决逻辑推理问题。以下是一个逻辑推理的题目，形式为单项选择题。所有的问题都是（close-world assumption）闭世界假设，即未观测事实都为假。请逐步分析问题并在最后一行输出答案，最后一行的格式为\"答案是：A\"。题目如下：\n",
    "\n",
    "### 题目:\n",
    "{problem}\n",
    "\n",
    "### 问题:\n",
    "{question}\n",
    "{options}\n",
    "\"\"\"\n",
    "    # print(prompt)\n",
    "    return prompt\n"
   ],
   "outputs": [],
   "execution_count": null
  },
  {
   "cell_type": "code",
   "metadata": {
    "execution": {
     "iopub.execute_input": "2024-07-23T13:13:00.496652Z",
     "iopub.status.busy": "2024-07-23T13:13:00.496328Z",
     "iopub.status.idle": "2024-07-23T13:13:00.499923Z",
     "shell.execute_reply": "2024-07-23T13:13:00.499471Z",
     "shell.execute_reply.started": "2024-07-23T13:13:00.496633Z"
    },
    "tags": []
   },
   "source": [
    "# 这里使用extract抽取模获得抽取的结果\n",
    "\n",
    "def extract(input_text):\n",
    "    ans_pattern = re.compile(r\"答案是：(.)\", re.S)\n",
    "\n",
    "    problems = ans_pattern.findall(input_text)\n",
    "    # print(problems)\n",
    "    if(problems == ''):\n",
    "        return 'A'\n",
    "    return problems[0]"
   ],
   "outputs": [],
   "execution_count": null
  },
  {
   "cell_type": "code",
   "metadata": {
    "ExecutionIndicator": {
     "show": true
    },
    "execution": {
     "iopub.execute_input": "2024-07-23T13:13:01.438679Z",
     "iopub.status.busy": "2024-07-23T13:13:01.438335Z",
     "iopub.status.idle": "2024-07-23T13:13:01.444335Z",
     "shell.execute_reply": "2024-07-23T13:13:01.443867Z",
     "shell.execute_reply.started": "2024-07-23T13:13:01.438658Z"
    },
    "tags": []
   },
   "source": [
    "def process_datas(datas,MODEL_NAME):\n",
    "    results = []\n",
    "    with ThreadPoolExecutor(max_workers=16) as executor:\n",
    "        future_data = {}\n",
    "        lasttask = ''\n",
    "        lastmark = 0\n",
    "        lens = 0\n",
    "        for data in tqdm(datas, desc=\"Submitting tasks\", total=len(datas)):\n",
    "            problem = data['problem']\n",
    "            for id,question in enumerate(data['questions']):\n",
    "                prompt = get_prompt(problem, \n",
    "                                    question['question'], \n",
    "                                    question['options'],\n",
    "                                    )\n",
    "\n",
    "                future = executor.submit(api_retry, MODEL_NAME, prompt)\n",
    "                \n",
    "                future_data[future] = (data,id)\n",
    "                time.sleep(0.6)  # 控制每0.5秒提交一个任务\n",
    "                lens += 1\n",
    "        for future in tqdm(as_completed(future_data), total=lens, desc=\"Processing tasks\"):\n",
    "            # print('data',data)\n",
    "            data = future_data[future][0]\n",
    "            problem_id = future_data[future][1]\n",
    "            try:\n",
    "                res  = future.result()\n",
    "                extract_response = extract(res)\n",
    "                # print('res',extract_response)\n",
    "                data['questions'][problem_id]['answer'] = extract_response\n",
    "                results.append(data)\n",
    "                # print('data',data)\n",
    "                \n",
    "            except Exception as e:\n",
    "                logger.error(f\"Failed to process text: {data}. Error: {e}\")\n",
    "    \n",
    "    return results"
   ],
   "outputs": [],
   "execution_count": null
  },
  {
   "cell_type": "code",
   "metadata": {
    "ExecutionIndicator": {
     "show": true
    },
    "execution": {
     "iopub.execute_input": "2024-07-23T13:13:28.728243Z",
     "iopub.status.busy": "2024-07-23T13:13:28.727629Z",
     "iopub.status.idle": "2024-07-23T13:13:28.733306Z",
     "shell.execute_reply": "2024-07-23T13:13:28.732750Z",
     "shell.execute_reply.started": "2024-07-23T13:13:28.728200Z"
    },
    "tags": []
   },
   "source": [
    "def main(ifn, ofn):\n",
    "    if os.path.exists(ofn):\n",
    "        pass\n",
    "    data = []\n",
    "    # 按行读取数据\n",
    "    with open(ifn) as reader:\n",
    "        for line in reader:\n",
    "            sample = json.loads(line)\n",
    "            data.append(sample)\n",
    "    datas = data\n",
    "    # print(data)\n",
    "    # 均匀地分成多个数据集\n",
    "    return_list = process_datas(datas,MODEL_NAME)\n",
    "    print(len(return_list))\n",
    "    print(\"All tasks finished!\")\n",
    "    return return_list"
   ],
   "outputs": [],
   "execution_count": null
  },
  {
   "cell_type": "code",
   "metadata": {
    "execution": {
     "iopub.execute_input": "2024-07-23T13:13:29.933908Z",
     "iopub.status.busy": "2024-07-23T13:13:29.933519Z",
     "iopub.status.idle": "2024-07-23T13:13:29.937730Z",
     "shell.execute_reply": "2024-07-23T13:13:29.937287Z",
     "shell.execute_reply.started": "2024-07-23T13:13:29.933885Z"
    },
    "tags": []
   },
   "source": [
    "def evaluate(ofn):\n",
    "    data = []\n",
    "    with open(ofn) as reader:\n",
    "        for line in reader:\n",
    "            sample = json.loads(line)\n",
    "            data.append(sample)\n",
    "\n",
    "    pse = 0\n",
    "    cnt = 0\n",
    "    tot = 0\n",
    "    for task in data:\n",
    "        for question in task['questions']:\n",
    "            \n",
    "            if MODEL_NAME in question:\n",
    "                tot += 1\n",
    "                cnt += question[MODEL_NAME] == question['answer']\n",
    "            else:\n",
    "                pse += 1\n",
    "\n",
    "    print(cnt, tot, cnt/tot, pse)"
   ],
   "outputs": [],
   "execution_count": null
  },
  {
   "cell_type": "code",
   "metadata": {
    "execution": {
     "iopub.execute_input": "2024-07-23T14:31:54.895250Z",
     "iopub.status.busy": "2024-07-23T14:31:54.894923Z",
     "iopub.status.idle": "2024-07-23T14:56:03.236607Z",
     "shell.execute_reply": "2024-07-23T14:56:03.236089Z",
     "shell.execute_reply.started": "2024-07-23T14:31:54.895230Z"
    },
    "scrolled": true,
    "tags": []
   },
   "source": [
    "if __name__ == '__main__':\n",
    "\n",
    "    a = extract(\"\"\"根据欧几里得算法，逐步解析计算两个数6和7的最大公约数（gcd）的步骤如下：\n",
    "\n",
    "1. 判断6和7是否相等：不相等。\n",
    "2. 判断6和7大小关系，7 > 6，所以用更大的数7减去较小的数6得到结果1。\n",
    "3. 现在计算6和1的最大公约数。\n",
    "4. 6 > 1，根据算法用更大的数6减去较小的数1得到结果5。\n",
    "5. 再计算5和1的最大公约数。\n",
    "6. 5 > 1，用5减去1得到结果4。\n",
    "7. 再计算4和1的最大公约数。\n",
    "8. 4 > 1，用4减去1得到结果3。\n",
    "9. 再计算3和1的最大公约数。\n",
    "10. 3 > 1，用3减去1得到结果2。\n",
    "11. 再计算2和1的最大公约数。\n",
    "12. 2 > 1，用2减去1得到结果1。\n",
    "13. 最后计算1和1的最大公约数，两数相等，gcd即为这两个数，也就是1。\n",
    "\n",
    "因此，6和7的最大公约数是1。\n",
    "\n",
    "答案是：C.\"\"\")\n",
    "\n",
    "    print(a)\n",
    "    return_list = main('round1_test_data.jsonl', 'upload.jsonl')\n"
   ],
   "outputs": [],
   "execution_count": null
  },
  {
   "cell_type": "code",
   "metadata": {
    "execution": {
     "iopub.execute_input": "2024-07-23T15:08:15.092136Z",
     "iopub.status.busy": "2024-07-23T15:08:15.091737Z",
     "iopub.status.idle": "2024-07-23T15:08:15.096751Z",
     "shell.execute_reply": "2024-07-23T15:08:15.096296Z",
     "shell.execute_reply.started": "2024-07-23T15:08:15.092113Z"
    },
    "tags": []
   },
   "source": [
    "def has_complete_answer(questions):\n",
    "    # 这里假设完整答案的判断逻辑是：每个question都有一个'answer'键\n",
    "    for question in questions:\n",
    "        if 'answer' not in question:\n",
    "            return False\n",
    "    return True\n",
    "\n",
    "def filter_problems(data):\n",
    "    result = []\n",
    "    problem_set = set()\n",
    "\n",
    "    for item in data:\n",
    "        # print('处理的item' ,item)\n",
    "        problem = item['problem']\n",
    "        if problem in problem_set:\n",
    "            # 找到已存在的字典\n",
    "            for existing_item in result:\n",
    "                if existing_item['problem'] == problem:\n",
    "                    # 如果当前字典有完整答案，替换已存在的字典\n",
    "                    if has_complete_answer(item['questions']):\n",
    "                        existing_item['questions'] = item['questions']\n",
    "                        existing_item['id'] = item['id']\n",
    "                    break\n",
    "        else:\n",
    "            # 如果当前字典有完整答案，添加到结果列表\n",
    "            if has_complete_answer(item['questions']):\n",
    "                result.append(item)\n",
    "                problem_set.add(problem)\n",
    "\n",
    "    return result"
   ],
   "outputs": [],
   "execution_count": null
  },
  {
   "cell_type": "code",
   "metadata": {
    "execution": {
     "iopub.execute_input": "2024-07-23T15:08:17.958117Z",
     "iopub.status.busy": "2024-07-23T15:08:17.957733Z",
     "iopub.status.idle": "2024-07-23T15:08:17.978156Z",
     "shell.execute_reply": "2024-07-23T15:08:17.977693Z",
     "shell.execute_reply.started": "2024-07-23T15:08:17.958096Z"
    },
    "scrolled": true,
    "tags": []
   },
   "source": [
    "return_list\n",
    "return_list = filter_problems(return_list)\n",
    "sorted_data = sorted(return_list, key=lambda x: int(str(x['id'])[-3:]))\n",
    "print(sorted_data)"
   ],
   "outputs": [],
   "execution_count": null
  },
  {
   "cell_type": "code",
   "metadata": {
    "execution": {
     "iopub.execute_input": "2024-07-23T11:45:20.898741Z",
     "iopub.status.busy": "2024-07-23T11:45:20.898410Z",
     "iopub.status.idle": "2024-07-23T11:45:20.908563Z",
     "shell.execute_reply": "2024-07-23T11:45:20.908135Z",
     "shell.execute_reply.started": "2024-07-23T11:45:20.898721Z"
    },
    "scrolled": true,
    "tags": []
   },
   "source": [
    "sorted_data"
   ],
   "outputs": [],
   "execution_count": null
  },
  {
   "cell_type": "code",
   "metadata": {
    "ExecutionIndicator": {
     "show": true
    },
    "execution": {
     "iopub.execute_input": "2024-07-23T15:08:24.569203Z",
     "iopub.status.busy": "2024-07-23T15:08:24.568844Z",
     "iopub.status.idle": "2024-07-23T15:08:24.573494Z",
     "shell.execute_reply": "2024-07-23T15:08:24.573054Z",
     "shell.execute_reply.started": "2024-07-23T15:08:24.569183Z"
    },
    "tags": []
   },
   "source": [
    "def find_missing_ids(dict_list):\n",
    "    # 提取所有序号\n",
    "    extracted_ids = {int(d['id'][-3:]) for d in dict_list}\n",
    "    \n",
    "    # 创建0-500的序号集合\n",
    "    all_ids = set(range(500))\n",
    "    \n",
    "    # 找出缺失的序号\n",
    "    missing_ids = all_ids - extracted_ids\n",
    "    \n",
    "    return sorted(missing_ids)\n",
    "\n",
    "# 示例字典列表\n",
    "dict_list = sorted_data\n",
    "\n",
    "# 找出缺失的序号\n",
    "missing_ids = find_missing_ids(dict_list)\n",
    "print(\"缺失的序号:\", missing_ids)"
   ],
   "outputs": [],
   "execution_count": null
  },
  {
   "cell_type": "code",
   "metadata": {
    "execution": {
     "iopub.execute_input": "2024-07-23T15:08:30.219175Z",
     "iopub.status.busy": "2024-07-23T15:08:30.218794Z",
     "iopub.status.idle": "2024-07-23T15:08:30.224778Z",
     "shell.execute_reply": "2024-07-23T15:08:30.223896Z",
     "shell.execute_reply.started": "2024-07-23T15:08:30.219153Z"
    },
    "tags": []
   },
   "source": [
    "len(missing_ids)"
   ],
   "outputs": [],
   "execution_count": null
  },
  {
   "cell_type": "code",
   "metadata": {
    "ExecutionIndicator": {
     "show": true
    },
    "execution": {
     "iopub.execute_input": "2024-07-23T15:08:32.688319Z",
     "iopub.status.busy": "2024-07-23T15:08:32.687963Z",
     "iopub.status.idle": "2024-07-23T15:08:32.694187Z",
     "shell.execute_reply": "2024-07-23T15:08:32.693702Z",
     "shell.execute_reply.started": "2024-07-23T15:08:32.688299Z"
    },
    "tags": []
   },
   "source": [
    "data  = []\n",
    "with open('round1_test_data.jsonl') as reader:\n",
    "    for id,line in enumerate(reader):\n",
    "        if(id in missing_ids):\n",
    "            sample = json.loads(line)\n",
    "            for question in sample['questions']:\n",
    "                question['answer'] = 'A'\n",
    "            sorted_data.append(sample)\n",
    "sorted_data = sorted(sorted_data, key=lambda x: int(str(x['id'])[-3:]))\n",
    "        "
   ],
   "outputs": [],
   "execution_count": null
  },
  {
   "cell_type": "code",
   "metadata": {
    "ExecutionIndicator": {
     "show": false
    },
    "execution": {
     "iopub.execute_input": "2024-07-23T15:08:35.814742Z",
     "iopub.status.busy": "2024-07-23T15:08:35.814394Z",
     "iopub.status.idle": "2024-07-23T15:08:35.826862Z",
     "shell.execute_reply": "2024-07-23T15:08:35.826219Z",
     "shell.execute_reply.started": "2024-07-23T15:08:35.814721Z"
    },
    "tags": []
   },
   "source": [
    "with open('upload.jsonl', 'w') as writer:\n",
    "    for sample in sorted_data:\n",
    "        writer.write(json.dumps(sample, ensure_ascii=False))\n",
    "        writer.write('\\n')"
   ],
   "outputs": [],
   "execution_count": null
  },
  {
   "cell_type": "code",
   "metadata": {},
   "source": [],
   "outputs": [],
   "execution_count": null
  }
 ],
 "metadata": {
  "kernelspec": {
   "display_name": "Python 3 (ipykernel)",
   "language": "python",
   "name": "python3"
  },
  "language_info": {
   "codemirror_mode": {
    "name": "ipython",
    "version": 3
   },
   "file_extension": ".py",
   "mimetype": "text/x-python",
   "name": "python",
   "nbconvert_exporter": "python",
   "pygments_lexer": "ipython3",
   "version": "3.10.14"
  }
 },
 "nbformat": 4,
 "nbformat_minor": 4
}
