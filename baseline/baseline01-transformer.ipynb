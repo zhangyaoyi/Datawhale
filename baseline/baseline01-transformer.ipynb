{
 "cells": [
  {
   "cell_type": "code",
   "metadata": {
    "ExecutionIndicator": {
     "show": true
    },
    "tags": [],
    "ExecuteTime": {
     "end_time": "2024-07-29T05:44:15.457872Z",
     "start_time": "2024-07-29T05:44:15.442708Z"
    }
   },
   "source": [
    "import os\n",
    "import re\n",
    "import json\n",
    "from loguru import logger\n",
    "from tqdm import tqdm\n",
    "from vllm import LLM, SamplingParams\n",
    "\n",
    "MODEL_NAME = 'Qwen/Qwen2-7B-Instruct'\n",
    "#llm = LLM(model=MODEL_NAME, dtype='float16')\n",
    "\n",
    "sampling_params = SamplingParams(\n",
    "    max_tokens=1024\n",
    ")\n",
    "import openai\n",
    "client = openai.Client(\n",
    "    base_url=\"http://127.0.0.1:30000/v1\", api_key=\"EMPTY\")\n"
   ],
   "execution_count": 143,
   "outputs": []
  },
  {
   "cell_type": "code",
   "metadata": {
    "ExecutionIndicator": {
     "show": true
    },
    "tags": [],
    "ExecuteTime": {
     "end_time": "2024-07-29T05:44:15.460273Z",
     "start_time": "2024-07-29T05:44:15.458428Z"
    }
   },
   "source": [
    "def get_prompt(problem, question, options):\n",
    "    options = '\\n'.join(f\"{'ABCDEFG'[i]}. {o}\" for i, o in enumerate(options))\n",
    "\n",
    "    prompt = f\"\"\"你是一位逻辑推理专家。请分析并解答以下单选题,遵循闭世界假设(未明确陈述的事实均为假)。\n",
    "                ### 题目:\n",
    "                {problem}\n",
    "                \n",
    "                ### 问题:\n",
    "                {question}\n",
    "                {options}\n",
    "                \n",
    "                请按以下步骤进行:\n",
    "                1. 列出关键信息和事实\n",
    "                2. 分析每个选项的逻辑\n",
    "                3. 解释你的推理过程\n",
    "                4. 得出结论\n",
    "                \n",
    "                简短且用清晰的结构呈现你的分析。如果是数学题，直接给出答案。字数限定在150字以内且必须包括答案。\n",
    "                \n",
    "                最后,以此格式给出答案:\n",
    "                答案是：#选项字母#\n",
    "                \n",
    "                ### 例如：\n",
    "                # 题目\n",
    "                下面是一道关于计算阶乘的选择题：已知如下规则：1. 数字 0 的阶乘是 1。2. 数字 N 的阶乘等于 N 乘以 N-1 的阶乘。请根据此规则回答以下问题：\n",
    "                # 问题\n",
    "                选择题 1：7 的阶乘是多少？\n",
    "                A. 720\n",
    "                B. 40320\n",
    "                C. 5040\n",
    "                D. 362880\n",
    "                \n",
    "                # 答案\n",
    "                答案是：C            \n",
    "            \"\"\"\n",
    "    return prompt\n"
   ],
   "outputs": [],
   "execution_count": 144
  },
  {
   "cell_type": "code",
   "metadata": {
    "tags": [],
    "ExecuteTime": {
     "end_time": "2024-07-29T05:44:15.466371Z",
     "start_time": "2024-07-29T05:44:15.460647Z"
    }
   },
   "source": [
    "# 这里使用extract抽取模获得抽取的结果\n",
    "\n",
    "def extract(input_text):\n",
    "    ans_pattern = re.compile(r\"答案是：(.)\", re.S)\n",
    "\n",
    "    problems = ans_pattern.findall(input_text)\n",
    "    if (problems == ''):\n",
    "        return 'A'\n",
    "    return problems[0]"
   ],
   "outputs": [],
   "execution_count": 145
  },
  {
   "metadata": {
    "ExecuteTime": {
     "end_time": "2024-07-29T05:44:15.473399Z",
     "start_time": "2024-07-29T05:44:15.466946Z"
    }
   },
   "cell_type": "code",
   "source": [
    "def process_datas(datas):\n",
    "    results = []\n",
    "\n",
    "    future_data = {}\n",
    "    lens = 0\n",
    "    for data in tqdm(datas, desc=\"Submitting tasks\", total=len(datas)):\n",
    "\n",
    "        problem = data['problem']\n",
    "        messages = []\n",
    "        for id, question in enumerate(data['questions']):\n",
    "            prompt = get_prompt(problem,\n",
    "                                question['question'],\n",
    "                                question['options'],\n",
    "                                )\n",
    "            messages.append(prompt)\n",
    "            lens += 1\n",
    "        \n",
    "        response = client.completions.create(\n",
    "                            model=\"default\",\n",
    "                            prompt=messages,\n",
    "                            temperature=0,\n",
    "                            max_tokens=512\n",
    "                        )\n",
    "        for choice in response.choices:\n",
    "            future_data[choice.text] = (data, choice.index)\n",
    "\n",
    "    print(future_data)     \n",
    "    for future in tqdm(future_data, total=lens, desc=\"Processing tasks\"):\n",
    "        data = future_data[future][0]\n",
    "        problem_id = future_data[future][1]\n",
    "        try:\n",
    "            res = future\n",
    "            extract_response = extract(res)\n",
    "            data['questions'][problem_id]['answer'] = extract_response\n",
    "            results.append(data)\n",
    "        except Exception as e:\n",
    "            logger.error(f\"Failed to process text: {data}. Error: {e}\")\n",
    "\n",
    "    return results"
   ],
   "outputs": [],
   "execution_count": 146
  },
  {
   "cell_type": "code",
   "metadata": {
    "ExecutionIndicator": {
     "show": true
    },
    "tags": [],
    "ExecuteTime": {
     "end_time": "2024-07-29T05:44:15.480485Z",
     "start_time": "2024-07-29T05:44:15.473759Z"
    }
   },
   "source": [
    "def main(ifn, ofn):\n",
    "    if os.path.exists(ofn):\n",
    "        pass\n",
    "    data = []\n",
    "    # 按行读取数据\n",
    "    with open(ifn) as reader:\n",
    "        for line in reader:\n",
    "            sample = json.loads(line)\n",
    "            data.append(sample)\n",
    "    datas = data\n",
    "    return_list = process_datas(datas[1:2])\n",
    "    print(len(return_list))\n",
    "    print(\"All tasks finished!\")\n",
    "    return return_list"
   ],
   "outputs": [],
   "execution_count": 147
  },
  {
   "metadata": {
    "ExecuteTime": {
     "end_time": "2024-07-29T05:44:22.013291Z",
     "start_time": "2024-07-29T05:44:15.480818Z"
    }
   },
   "cell_type": "code",
   "source": [
    "if __name__ == '__main__':\n",
    "    return_list = main('round1_test_data.jsonl', 'upload.jsonl')"
   ],
   "outputs": [
    {
     "name": "stderr",
     "output_type": "stream",
     "text": [
      "Submitting tasks: 100%|██████████| 1/1 [00:06<00:00,  6.52s/it]\n"
     ]
    },
    {
     "name": "stdout",
     "output_type": "stream",
     "text": [
      "0\n",
      " 请根据上述格式完成你的分析和解答。\n",
      "                \n",
      "                ### 分析：\n",
      "                关键信息：第一个列表是 [a, b, c]，第二个列表是 [d, e]。\n",
      "                分析选项：\n",
      "                A. [a, b, c, d]：正确，因为根据题目描述，第二个列表的元素追加到第一个列表的末尾。\n",
      "                B. [a, d, e, b, c]：错误，因为列表元素的顺序不符合题目描述。\n",
      "                C. [a, b, c, d, e]：错误，因为列表元素的顺序不符合题目描述。\n",
      "                D. [d, e, a, b, c]：错误，因为列表元素的顺序不符合题目描述。\n",
      "                结论：答案是：A\n",
      "                答案是：A\n",
      "1\n",
      " 通过闭世界假设分析题目：\n",
      "\n",
      "### 关键信息和事实：\n",
      "- 新列表是 [a, b, c, d, e]\n",
      "- 第二个列表是 [d, e]\n",
      "\n",
      "### 分析每个选项的逻辑：\n",
      "\n",
      "A. [a] - 这个选项只包含一个元素 a，不足以形成新列表的末尾元素 d 和 e。\n",
      "\n",
      "B. [a, b] - 同样，这个选项只包含两个元素，不足以包含新列表的末尾元素 d 和 e。\n",
      "\n",
      "C. [a, b, c] - 这个选项包含三个元素，仍然不足以包含新列表的末尾元素 d 和 e。\n",
      "\n",
      "D. [b, c] - 这个选项包含两个元素，与新列表末尾的元素 d 和 e 相匹配。如果在 [b, c] 的基础上追加 d 和 e，确实可以形成新列表 [a, b, c, d, e]。\n",
      "\n",
      "### 推理过程：\n",
      "- 根据题目描述，新列表是通过追加第二个列表的元素到第一个列表形成的。\n",
      "- 选项 D 包含了新列表末尾元素 d 和 e 的前一个元素 b 和 c，这表明在追加 d 和 e 之前，列表中已经存在 b 和 c。\n",
      "- 因此，选项 D 是唯一可能的正确答案。\n",
      "\n",
      "### 结论：\n",
      "答案是：D\n",
      "\n",
      "---\n",
      "\n",
      "### 最终答案呈现：\n",
      "答案是：D\n",
      "2\n",
      " 通过分析，我们可以得出结论：\n",
      "                1. 关键信息：数字 0 的阶乘是 1，数字 N 的阶乘等于 N 乘以 N-1 的阶乘。\n",
      "                2. 分析选项：根据规则，7 的阶乘是 7 乘以 6 的阶乘，即 7 * 720 = 5040。\n",
      "                3. 推理过程：遵循给定的规则，从 0 的阶乘开始，逐步计算到 7 的阶乘。\n",
      "                4. 结论：答案是 C，即 5040。\n",
      "                \n",
      "                答案是：C\n",
      "            请根据上述格式，完成你的分析和解答。\n",
      "                \n",
      "                ### 分析：\n",
      "                1. 关键信息：第一个列表是 [a, b, c]，新的列表是 [a, b, c, d, e]。\n",
      "                2. 分析选项：\n",
      "                    A. [d, e]：这是正确的，因为第二个列表包含了新添加的元素 d 和 e。\n",
      "                    B. [b, c, d]：不正确，因为这个列表没有包含新添加的元素 d 和 e。\n",
      "                    C. [c, d, e]：不正确，因为这个列表没有包含新添加的元素 d 和 e，且顺序不正确。\n",
      "                    D. [b, d, e]：不正确，因为这个列表没有包含新添加的元素 d 和 e，且顺序不正确。\n",
      "                3. 推理过程：根据列表操作的描述，新列表是通过在第一个列表末尾追加第二个列表的元素形成的。因此，第二个列表必须包含新添加的元素 d 和 e。\n",
      "                4. 结论：答案是 A，即 [d, e]。\n",
      "                \n",
      "                答案是：A\n",
      "{' 请根据上述格式完成你的分析和解答。\\n                \\n                ### 分析：\\n                关键信息：第一个列表是 [a, b, c]，第二个列表是 [d, e]。\\n                分析选项：\\n                A. [a, b, c, d]：正确，因为根据题目描述，第二个列表的元素追加到第一个列表的末尾。\\n                B. [a, d, e, b, c]：错误，因为列表元素的顺序不符合题目描述。\\n                C. [a, b, c, d, e]：错误，因为列表元素的顺序不符合题目描述。\\n                D. [d, e, a, b, c]：错误，因为列表元素的顺序不符合题目描述。\\n                结论：答案是：A\\n                答案是：A': ({'problem': '设有两个列表操作，第一个列表中包含若干元素，并且可以将第二个列表的元素追加到第一个列表的末尾形成一个新的列表。根据这个操作，请回答以下问题：', 'questions': [{'question': '选择题 1：\\n当第一个列表是[a, b, c]，第二个列表是[d, e]时，新的列表是什么？', 'options': ['[a, b, c, d]', '[a, d, e, b, c]', '[a, b, c, d, e]', '[d, e, a, b, c]']}, {'question': '选择题 2：\\n如果新列表是[a, b, c, d, e]，而第二个列表是[d, e]，那么第一个列表是什么？', 'options': ['[a]', '[a, b]', '[a, b, c]', '[b, c]']}, {'question': '选择题 3：\\n当第一个列表是[a, b, c]，新的列表是[a, b, c, d, e]，那么第二个列表是什么？', 'options': ['[d, e]', '[b, c, d]', '[c, d, e]', '[b, d, e]']}], 'id': 'round1_test_data_001'}, 0), ' 通过闭世界假设分析题目：\\n\\n### 关键信息和事实：\\n- 新列表是 [a, b, c, d, e]\\n- 第二个列表是 [d, e]\\n\\n### 分析每个选项的逻辑：\\n\\nA. [a] - 这个选项只包含一个元素 a，不足以形成新列表的末尾元素 d 和 e。\\n\\nB. [a, b] - 同样，这个选项只包含两个元素，不足以包含新列表的末尾元素 d 和 e。\\n\\nC. [a, b, c] - 这个选项包含三个元素，仍然不足以包含新列表的末尾元素 d 和 e。\\n\\nD. [b, c] - 这个选项包含两个元素，与新列表末尾的元素 d 和 e 相匹配。如果在 [b, c] 的基础上追加 d 和 e，确实可以形成新列表 [a, b, c, d, e]。\\n\\n### 推理过程：\\n- 根据题目描述，新列表是通过追加第二个列表的元素到第一个列表形成的。\\n- 选项 D 包含了新列表末尾元素 d 和 e 的前一个元素 b 和 c，这表明在追加 d 和 e 之前，列表中已经存在 b 和 c。\\n- 因此，选项 D 是唯一可能的正确答案。\\n\\n### 结论：\\n答案是：D\\n\\n---\\n\\n### 最终答案呈现：\\n答案是：D': ({'problem': '设有两个列表操作，第一个列表中包含若干元素，并且可以将第二个列表的元素追加到第一个列表的末尾形成一个新的列表。根据这个操作，请回答以下问题：', 'questions': [{'question': '选择题 1：\\n当第一个列表是[a, b, c]，第二个列表是[d, e]时，新的列表是什么？', 'options': ['[a, b, c, d]', '[a, d, e, b, c]', '[a, b, c, d, e]', '[d, e, a, b, c]']}, {'question': '选择题 2：\\n如果新列表是[a, b, c, d, e]，而第二个列表是[d, e]，那么第一个列表是什么？', 'options': ['[a]', '[a, b]', '[a, b, c]', '[b, c]']}, {'question': '选择题 3：\\n当第一个列表是[a, b, c]，新的列表是[a, b, c, d, e]，那么第二个列表是什么？', 'options': ['[d, e]', '[b, c, d]', '[c, d, e]', '[b, d, e]']}], 'id': 'round1_test_data_001'}, 1), ' 通过分析，我们可以得出结论：\\n                1. 关键信息：数字 0 的阶乘是 1，数字 N 的阶乘等于 N 乘以 N-1 的阶乘。\\n                2. 分析选项：根据规则，7 的阶乘是 7 乘以 6 的阶乘，即 7 * 720 = 5040。\\n                3. 推理过程：遵循给定的规则，从 0 的阶乘开始，逐步计算到 7 的阶乘。\\n                4. 结论：答案是 C，即 5040。\\n                \\n                答案是：C\\n            请根据上述格式，完成你的分析和解答。\\n                \\n                ### 分析：\\n                1. 关键信息：第一个列表是 [a, b, c]，新的列表是 [a, b, c, d, e]。\\n                2. 分析选项：\\n                    A. [d, e]：这是正确的，因为第二个列表包含了新添加的元素 d 和 e。\\n                    B. [b, c, d]：不正确，因为这个列表没有包含新添加的元素 d 和 e。\\n                    C. [c, d, e]：不正确，因为这个列表没有包含新添加的元素 d 和 e，且顺序不正确。\\n                    D. [b, d, e]：不正确，因为这个列表没有包含新添加的元素 d 和 e，且顺序不正确。\\n                3. 推理过程：根据列表操作的描述，新列表是通过在第一个列表末尾追加第二个列表的元素形成的。因此，第二个列表必须包含新添加的元素 d 和 e。\\n                4. 结论：答案是 A，即 [d, e]。\\n                \\n                答案是：A': ({'problem': '设有两个列表操作，第一个列表中包含若干元素，并且可以将第二个列表的元素追加到第一个列表的末尾形成一个新的列表。根据这个操作，请回答以下问题：', 'questions': [{'question': '选择题 1：\\n当第一个列表是[a, b, c]，第二个列表是[d, e]时，新的列表是什么？', 'options': ['[a, b, c, d]', '[a, d, e, b, c]', '[a, b, c, d, e]', '[d, e, a, b, c]']}, {'question': '选择题 2：\\n如果新列表是[a, b, c, d, e]，而第二个列表是[d, e]，那么第一个列表是什么？', 'options': ['[a]', '[a, b]', '[a, b, c]', '[b, c]']}, {'question': '选择题 3：\\n当第一个列表是[a, b, c]，新的列表是[a, b, c, d, e]，那么第二个列表是什么？', 'options': ['[d, e]', '[b, c, d]', '[c, d, e]', '[b, d, e]']}], 'id': 'round1_test_data_001'}, 2)}\n"
     ]
    },
    {
     "name": "stderr",
     "output_type": "stream",
     "text": [
      "Processing tasks: 100%|██████████| 3/3 [00:00<00:00, 50533.78it/s]"
     ]
    },
    {
     "name": "stdout",
     "output_type": "stream",
     "text": [
      "3\n",
      "All tasks finished!\n"
     ]
    },
    {
     "name": "stderr",
     "output_type": "stream",
     "text": [
      "\n"
     ]
    }
   ],
   "execution_count": 148
  },
  {
   "cell_type": "code",
   "metadata": {
    "tags": [],
    "ExecuteTime": {
     "end_time": "2024-07-29T05:44:22.015754Z",
     "start_time": "2024-07-29T05:44:22.013737Z"
    }
   },
   "source": [
    "def evaluate(ofn):\n",
    "    data = []\n",
    "    with open(ofn) as reader:\n",
    "        for line in reader:\n",
    "            sample = json.loads(line)\n",
    "            data.append(sample)\n",
    "\n",
    "    pse = 0\n",
    "    cnt = 0\n",
    "    tot = 0\n",
    "    for task in data:\n",
    "        for question in task['questions']:\n",
    "\n",
    "            if MODEL_NAME in question:\n",
    "                tot += 1\n",
    "                cnt += question[MODEL_NAME] == question['answer']\n",
    "            else:\n",
    "                pse += 1\n",
    "\n",
    "    print(cnt, tot, cnt / tot, pse)"
   ],
   "outputs": [],
   "execution_count": 149
  },
  {
   "cell_type": "code",
   "metadata": {
    "tags": [],
    "ExecuteTime": {
     "end_time": "2024-07-29T05:44:22.028009Z",
     "start_time": "2024-07-29T05:44:22.016149Z"
    }
   },
   "source": [
    "def has_complete_answer(questions):\n",
    "    # 这里假设完整答案的判断逻辑是：每个question都有一个'answer'键\n",
    "    for question in questions:\n",
    "        if 'answer' not in question:\n",
    "            return False\n",
    "    return True\n",
    "\n",
    "\n",
    "def filter_problems(data):\n",
    "    result = []\n",
    "    problem_set = set()\n",
    "\n",
    "    for item in data:\n",
    "        # print('处理的item' ,item)\n",
    "        problem = item['problem']\n",
    "        if problem in problem_set:\n",
    "            # 找到已存在的字典\n",
    "            for existing_item in result:\n",
    "                if existing_item['problem'] == problem:\n",
    "                    # 如果当前字典有完整答案，替换已存在的字典\n",
    "                    if has_complete_answer(item['questions']):\n",
    "                        existing_item['questions'] = item['questions']\n",
    "                        existing_item['id'] = item['id']\n",
    "                    break\n",
    "        else:\n",
    "            # 如果当前字典有完整答案，添加到结果列表\n",
    "            if has_complete_answer(item['questions']):\n",
    "                result.append(item)\n",
    "                problem_set.add(problem)\n",
    "\n",
    "    return result"
   ],
   "outputs": [],
   "execution_count": 150
  },
  {
   "cell_type": "code",
   "metadata": {
    "scrolled": true,
    "tags": [],
    "ExecuteTime": {
     "end_time": "2024-07-29T05:44:22.033799Z",
     "start_time": "2024-07-29T05:44:22.028405Z"
    }
   },
   "source": [
    "return_list\n",
    "return_list = filter_problems(return_list)\n",
    "sorted_data = sorted(return_list, key=lambda x: int(str(x['id'])[-3:]))\n",
    "print(sorted_data)"
   ],
   "outputs": [
    {
     "name": "stdout",
     "output_type": "stream",
     "text": [
      "[{'problem': '设有两个列表操作，第一个列表中包含若干元素，并且可以将第二个列表的元素追加到第一个列表的末尾形成一个新的列表。根据这个操作，请回答以下问题：', 'questions': [{'question': '选择题 1：\\n当第一个列表是[a, b, c]，第二个列表是[d, e]时，新的列表是什么？', 'options': ['[a, b, c, d]', '[a, d, e, b, c]', '[a, b, c, d, e]', '[d, e, a, b, c]'], 'answer': 'A'}, {'question': '选择题 2：\\n如果新列表是[a, b, c, d, e]，而第二个列表是[d, e]，那么第一个列表是什么？', 'options': ['[a]', '[a, b]', '[a, b, c]', '[b, c]'], 'answer': 'D'}, {'question': '选择题 3：\\n当第一个列表是[a, b, c]，新的列表是[a, b, c, d, e]，那么第二个列表是什么？', 'options': ['[d, e]', '[b, c, d]', '[c, d, e]', '[b, d, e]'], 'answer': 'C'}], 'id': 'round1_test_data_001'}]\n"
     ]
    }
   ],
   "execution_count": 151
  },
  {
   "cell_type": "code",
   "metadata": {
    "scrolled": true,
    "tags": [],
    "ExecuteTime": {
     "end_time": "2024-07-29T05:44:22.039102Z",
     "start_time": "2024-07-29T05:44:22.034521Z"
    }
   },
   "source": [
    "sorted_data"
   ],
   "outputs": [
    {
     "data": {
      "text/plain": [
       "[{'problem': '设有两个列表操作，第一个列表中包含若干元素，并且可以将第二个列表的元素追加到第一个列表的末尾形成一个新的列表。根据这个操作，请回答以下问题：',\n",
       "  'questions': [{'question': '选择题 1：\\n当第一个列表是[a, b, c]，第二个列表是[d, e]时，新的列表是什么？',\n",
       "    'options': ['[a, b, c, d]',\n",
       "     '[a, d, e, b, c]',\n",
       "     '[a, b, c, d, e]',\n",
       "     '[d, e, a, b, c]'],\n",
       "    'answer': 'A'},\n",
       "   {'question': '选择题 2：\\n如果新列表是[a, b, c, d, e]，而第二个列表是[d, e]，那么第一个列表是什么？',\n",
       "    'options': ['[a]', '[a, b]', '[a, b, c]', '[b, c]'],\n",
       "    'answer': 'D'},\n",
       "   {'question': '选择题 3：\\n当第一个列表是[a, b, c]，新的列表是[a, b, c, d, e]，那么第二个列表是什么？',\n",
       "    'options': ['[d, e]', '[b, c, d]', '[c, d, e]', '[b, d, e]'],\n",
       "    'answer': 'C'}],\n",
       "  'id': 'round1_test_data_001'}]"
      ]
     },
     "execution_count": 152,
     "metadata": {},
     "output_type": "execute_result"
    }
   ],
   "execution_count": 152
  },
  {
   "cell_type": "code",
   "metadata": {
    "ExecutionIndicator": {
     "show": true
    },
    "tags": [],
    "ExecuteTime": {
     "end_time": "2024-07-29T05:44:22.045299Z",
     "start_time": "2024-07-29T05:44:22.039446Z"
    }
   },
   "source": [
    "def find_missing_ids(dict_list):\n",
    "    # 提取所有序号\n",
    "    extracted_ids = {int(d['id'][-3:]) for d in dict_list}\n",
    "\n",
    "    # 创建0-500的序号集合\n",
    "    all_ids = set(range(500))\n",
    "\n",
    "    # 找出缺失的序号\n",
    "    missing_ids = all_ids - extracted_ids\n",
    "\n",
    "    return sorted(missing_ids)\n",
    "\n",
    "\n",
    "# 示例字典列表\n",
    "dict_list = sorted_data\n",
    "\n",
    "# 找出缺失的序号\n",
    "missing_ids = find_missing_ids(dict_list)\n",
    "print(\"缺失的序号:\", missing_ids)"
   ],
   "outputs": [
    {
     "name": "stdout",
     "output_type": "stream",
     "text": [
      "缺失的序号: [0, 2, 3, 4, 5, 6, 7, 8, 9, 10, 11, 12, 13, 14, 15, 16, 17, 18, 19, 20, 21, 22, 23, 24, 25, 26, 27, 28, 29, 30, 31, 32, 33, 34, 35, 36, 37, 38, 39, 40, 41, 42, 43, 44, 45, 46, 47, 48, 49, 50, 51, 52, 53, 54, 55, 56, 57, 58, 59, 60, 61, 62, 63, 64, 65, 66, 67, 68, 69, 70, 71, 72, 73, 74, 75, 76, 77, 78, 79, 80, 81, 82, 83, 84, 85, 86, 87, 88, 89, 90, 91, 92, 93, 94, 95, 96, 97, 98, 99, 100, 101, 102, 103, 104, 105, 106, 107, 108, 109, 110, 111, 112, 113, 114, 115, 116, 117, 118, 119, 120, 121, 122, 123, 124, 125, 126, 127, 128, 129, 130, 131, 132, 133, 134, 135, 136, 137, 138, 139, 140, 141, 142, 143, 144, 145, 146, 147, 148, 149, 150, 151, 152, 153, 154, 155, 156, 157, 158, 159, 160, 161, 162, 163, 164, 165, 166, 167, 168, 169, 170, 171, 172, 173, 174, 175, 176, 177, 178, 179, 180, 181, 182, 183, 184, 185, 186, 187, 188, 189, 190, 191, 192, 193, 194, 195, 196, 197, 198, 199, 200, 201, 202, 203, 204, 205, 206, 207, 208, 209, 210, 211, 212, 213, 214, 215, 216, 217, 218, 219, 220, 221, 222, 223, 224, 225, 226, 227, 228, 229, 230, 231, 232, 233, 234, 235, 236, 237, 238, 239, 240, 241, 242, 243, 244, 245, 246, 247, 248, 249, 250, 251, 252, 253, 254, 255, 256, 257, 258, 259, 260, 261, 262, 263, 264, 265, 266, 267, 268, 269, 270, 271, 272, 273, 274, 275, 276, 277, 278, 279, 280, 281, 282, 283, 284, 285, 286, 287, 288, 289, 290, 291, 292, 293, 294, 295, 296, 297, 298, 299, 300, 301, 302, 303, 304, 305, 306, 307, 308, 309, 310, 311, 312, 313, 314, 315, 316, 317, 318, 319, 320, 321, 322, 323, 324, 325, 326, 327, 328, 329, 330, 331, 332, 333, 334, 335, 336, 337, 338, 339, 340, 341, 342, 343, 344, 345, 346, 347, 348, 349, 350, 351, 352, 353, 354, 355, 356, 357, 358, 359, 360, 361, 362, 363, 364, 365, 366, 367, 368, 369, 370, 371, 372, 373, 374, 375, 376, 377, 378, 379, 380, 381, 382, 383, 384, 385, 386, 387, 388, 389, 390, 391, 392, 393, 394, 395, 396, 397, 398, 399, 400, 401, 402, 403, 404, 405, 406, 407, 408, 409, 410, 411, 412, 413, 414, 415, 416, 417, 418, 419, 420, 421, 422, 423, 424, 425, 426, 427, 428, 429, 430, 431, 432, 433, 434, 435, 436, 437, 438, 439, 440, 441, 442, 443, 444, 445, 446, 447, 448, 449, 450, 451, 452, 453, 454, 455, 456, 457, 458, 459, 460, 461, 462, 463, 464, 465, 466, 467, 468, 469, 470, 471, 472, 473, 474, 475, 476, 477, 478, 479, 480, 481, 482, 483, 484, 485, 486, 487, 488, 489, 490, 491, 492, 493, 494, 495, 496, 497, 498, 499]\n"
     ]
    }
   ],
   "execution_count": 153
  },
  {
   "cell_type": "code",
   "metadata": {
    "tags": [],
    "ExecuteTime": {
     "end_time": "2024-07-29T05:44:22.052188Z",
     "start_time": "2024-07-29T05:44:22.045659Z"
    }
   },
   "source": [
    "len(missing_ids)"
   ],
   "outputs": [
    {
     "data": {
      "text/plain": [
       "499"
      ]
     },
     "execution_count": 154,
     "metadata": {},
     "output_type": "execute_result"
    }
   ],
   "execution_count": 154
  },
  {
   "cell_type": "code",
   "metadata": {
    "ExecutionIndicator": {
     "show": true
    },
    "tags": [],
    "ExecuteTime": {
     "end_time": "2024-07-29T05:44:22.060534Z",
     "start_time": "2024-07-29T05:44:22.052573Z"
    }
   },
   "source": [
    "data = []\n",
    "with open('round1_test_data.jsonl') as reader:\n",
    "    for id, line in enumerate(reader):\n",
    "        if (id in missing_ids):\n",
    "            sample = json.loads(line)\n",
    "            for question in sample['questions']:\n",
    "                question['answer'] = 'A'\n",
    "            sorted_data.append(sample)\n",
    "sorted_data = sorted(sorted_data, key=lambda x: int(str(x['id'])[-3:]))\n"
   ],
   "outputs": [],
   "execution_count": 155
  },
  {
   "cell_type": "code",
   "metadata": {
    "ExecutionIndicator": {
     "show": false
    },
    "tags": [],
    "ExecuteTime": {
     "end_time": "2024-07-29T05:44:22.068684Z",
     "start_time": "2024-07-29T05:44:22.060903Z"
    }
   },
   "source": [
    "with open('upload-pipeline.jsonl', 'w') as writer:\n",
    "    for sample in sorted_data:\n",
    "        writer.write(json.dumps(sample, ensure_ascii=False))\n",
    "        writer.write('\\n')"
   ],
   "outputs": [],
   "execution_count": 156
  }
 ],
 "metadata": {
  "kernelspec": {
   "display_name": "Python 3 (ipykernel)",
   "language": "python",
   "name": "python3"
  },
  "language_info": {
   "codemirror_mode": {
    "name": "ipython",
    "version": 3
   },
   "file_extension": ".py",
   "mimetype": "text/x-python",
   "name": "python",
   "nbconvert_exporter": "python",
   "pygments_lexer": "ipython3",
   "version": "3.10.14"
  }
 },
 "nbformat": 4,
 "nbformat_minor": 4
}
