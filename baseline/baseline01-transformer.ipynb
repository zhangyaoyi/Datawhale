{
 "cells": [
  {
   "cell_type": "code",
   "metadata": {
    "ExecutionIndicator": {
     "show": true
    },
    "execution": {
     "iopub.execute_input": "2024-07-23T14:31:45.888676Z",
     "iopub.status.busy": "2024-07-23T14:31:45.888353Z",
     "iopub.status.idle": "2024-07-23T14:31:45.896447Z",
     "shell.execute_reply": "2024-07-23T14:31:45.895860Z",
     "shell.execute_reply.started": "2024-07-23T14:31:45.888657Z"
    },
    "tags": []
   },
   "source": [
    "import os\n",
    "import re\n",
    "import json\n",
    "from loguru import logger\n",
    "from tqdm import tqdm\n",
    "from vllm import LLM, SamplingParams\n",
    "\n",
    "MODEL_NAME = 'Qwen/Qwen2-7B-Instruct'\n",
    "llm = LLM(model=MODEL_NAME, dtype='float16')\n",
    "\n",
    "sampling_params = SamplingParams(\n",
    "    max_tokens=1024\n",
    ")\n"
   ],
   "outputs": [],
   "execution_count": null
  },
  {
   "cell_type": "code",
   "metadata": {
    "execution": {
     "iopub.execute_input": "2024-07-23T13:12:55.545059Z",
     "iopub.status.busy": "2024-07-23T13:12:55.544701Z",
     "iopub.status.idle": "2024-07-23T13:12:55.549173Z",
     "shell.execute_reply": "2024-07-23T13:12:55.548699Z",
     "shell.execute_reply.started": "2024-07-23T13:12:55.545039Z"
    },
    "tags": []
   },
   "source": [
    "def call_LLM(query):\n",
    "    response = llm.generate(query, sampling_params)\n",
    "    return response[0].outputs[0].text"
   ],
   "outputs": [],
   "execution_count": null
  },
  {
   "cell_type": "code",
   "metadata": {
    "ExecutionIndicator": {
     "show": true
    },
    "execution": {
     "iopub.execute_input": "2024-07-23T13:12:58.489594Z",
     "iopub.status.busy": "2024-07-23T13:12:58.489254Z",
     "iopub.status.idle": "2024-07-23T13:12:58.493048Z",
     "shell.execute_reply": "2024-07-23T13:12:58.492553Z",
     "shell.execute_reply.started": "2024-07-23T13:12:58.489574Z"
    },
    "tags": []
   },
   "source": [
    "def get_prompt(problem, question, options):\n",
    "    options = '\\n'.join(f\"{'ABCDEFG'[i]}. {o}\" for i, o in enumerate(options))\n",
    "\n",
    "    prompt = f\"\"\"你是一位逻辑推理专家。请分析并解答以下单选题,遵循闭世界假设(未明确陈述的事实均为假)。\n",
    "                ### 题目:\n",
    "                {problem}\n",
    "                \n",
    "                ### 问题:\n",
    "                {question}\n",
    "                {options}\n",
    "                \n",
    "                请按以下步骤进行:\n",
    "                1. 列出关键信息和事实\n",
    "                2. 分析每个选项的逻辑\n",
    "                3. 解释你的推理过程\n",
    "                4. 得出结论\n",
    "                \n",
    "                简短且用清晰的结构呈现你的分析。如果是数学题，直接给出答案。字数限定在150字以内且必须包括答案。\n",
    "                \n",
    "                最后,以此格式给出答案:\n",
    "                答案是：#选项字母#\n",
    "            \"\"\"\n",
    "    return prompt\n"
   ],
   "outputs": [],
   "execution_count": null
  },
  {
   "cell_type": "code",
   "metadata": {
    "execution": {
     "iopub.execute_input": "2024-07-23T13:13:00.496652Z",
     "iopub.status.busy": "2024-07-23T13:13:00.496328Z",
     "iopub.status.idle": "2024-07-23T13:13:00.499923Z",
     "shell.execute_reply": "2024-07-23T13:13:00.499471Z",
     "shell.execute_reply.started": "2024-07-23T13:13:00.496633Z"
    },
    "tags": []
   },
   "source": [
    "# 这里使用extract抽取模获得抽取的结果\n",
    "\n",
    "def extract(input_text):\n",
    "    ans_pattern = re.compile(r\"答案是：(.)\", re.S)\n",
    "\n",
    "    problems = ans_pattern.findall(input_text)\n",
    "    if (problems == ''):\n",
    "        return 'A'\n",
    "    return problems[0]"
   ],
   "outputs": [],
   "execution_count": null
  },
  {
   "cell_type": "code",
   "metadata": {
    "ExecutionIndicator": {
     "show": true
    },
    "execution": {
     "iopub.execute_input": "2024-07-23T13:13:01.438679Z",
     "iopub.status.busy": "2024-07-23T13:13:01.438335Z",
     "iopub.status.idle": "2024-07-23T13:13:01.444335Z",
     "shell.execute_reply": "2024-07-23T13:13:01.443867Z",
     "shell.execute_reply.started": "2024-07-23T13:13:01.438658Z"
    },
    "tags": []
   },
   "source": [
    "def process_datas(datas):\n",
    "    results = []\n",
    "\n",
    "    future_data = {}\n",
    "    lens = 0\n",
    "    for data in tqdm(datas, desc=\"Submitting tasks\", total=len(datas)):\n",
    "\n",
    "        problem = data['problem']\n",
    "        for id, question in enumerate(data['questions']):\n",
    "            prompt = get_prompt(problem,\n",
    "                                question['question'],\n",
    "                                question['options'],\n",
    "                                )\n",
    "            future = call_LLM(prompt)\n",
    "            future_data[future] = (data, id)\n",
    "            lens += 1\n",
    "    for future in tqdm(future_data, total=lens, desc=\"Processing tasks\"):\n",
    "        data = future_data[future][0]\n",
    "        problem_id = future_data[future][1]\n",
    "        try:\n",
    "            res = future\n",
    "            extract_response = extract(res)\n",
    "            print(extract_response)\n",
    "            data['questions'][problem_id]['answer'] = extract_response\n",
    "            results.append(data)\n",
    "        except Exception as e:\n",
    "            logger.error(f\"Failed to process text: {data}. Error: {e}\")\n",
    "\n",
    "    return results"
   ],
   "outputs": [],
   "execution_count": null
  },
  {
   "cell_type": "code",
   "metadata": {
    "ExecutionIndicator": {
     "show": true
    },
    "execution": {
     "iopub.execute_input": "2024-07-23T13:13:28.728243Z",
     "iopub.status.busy": "2024-07-23T13:13:28.727629Z",
     "iopub.status.idle": "2024-07-23T13:13:28.733306Z",
     "shell.execute_reply": "2024-07-23T13:13:28.732750Z",
     "shell.execute_reply.started": "2024-07-23T13:13:28.728200Z"
    },
    "tags": []
   },
   "source": [
    "def main(ifn, ofn):\n",
    "    if os.path.exists(ofn):\n",
    "        pass\n",
    "    data = []\n",
    "    # 按行读取数据\n",
    "    with open(ifn) as reader:\n",
    "        for line in reader:\n",
    "            sample = json.loads(line)\n",
    "            data.append(sample)\n",
    "    datas = data\n",
    "    return_list = process_datas(datas)\n",
    "    print(len(return_list))\n",
    "    print(\"All tasks finished!\")\n",
    "    return return_list"
   ],
   "outputs": [],
   "execution_count": null
  },
  {
   "cell_type": "code",
   "metadata": {
    "execution": {
     "iopub.execute_input": "2024-07-23T13:13:29.933908Z",
     "iopub.status.busy": "2024-07-23T13:13:29.933519Z",
     "iopub.status.idle": "2024-07-23T13:13:29.937730Z",
     "shell.execute_reply": "2024-07-23T13:13:29.937287Z",
     "shell.execute_reply.started": "2024-07-23T13:13:29.933885Z"
    },
    "tags": []
   },
   "source": [
    "def evaluate(ofn):\n",
    "    data = []\n",
    "    with open(ofn) as reader:\n",
    "        for line in reader:\n",
    "            sample = json.loads(line)\n",
    "            data.append(sample)\n",
    "\n",
    "    pse = 0\n",
    "    cnt = 0\n",
    "    tot = 0\n",
    "    for task in data:\n",
    "        for question in task['questions']:\n",
    "\n",
    "            if MODEL_NAME in question:\n",
    "                tot += 1\n",
    "                cnt += question[MODEL_NAME] == question['answer']\n",
    "            else:\n",
    "                pse += 1\n",
    "\n",
    "    print(cnt, tot, cnt / tot, pse)"
   ],
   "outputs": [],
   "execution_count": null
  },
  {
   "cell_type": "code",
   "metadata": {
    "execution": {
     "iopub.execute_input": "2024-07-23T14:31:54.895250Z",
     "iopub.status.busy": "2024-07-23T14:31:54.894923Z",
     "iopub.status.idle": "2024-07-23T14:56:03.236607Z",
     "shell.execute_reply": "2024-07-23T14:56:03.236089Z",
     "shell.execute_reply.started": "2024-07-23T14:31:54.895230Z"
    },
    "scrolled": true,
    "tags": []
   },
   "source": [
    "if __name__ == '__main__':\n",
    "    return_list = main('round1_test_data.jsonl', 'upload.jsonl')\n"
   ],
   "outputs": [],
   "execution_count": null
  },
  {
   "cell_type": "code",
   "metadata": {
    "execution": {
     "iopub.execute_input": "2024-07-23T15:08:15.092136Z",
     "iopub.status.busy": "2024-07-23T15:08:15.091737Z",
     "iopub.status.idle": "2024-07-23T15:08:15.096751Z",
     "shell.execute_reply": "2024-07-23T15:08:15.096296Z",
     "shell.execute_reply.started": "2024-07-23T15:08:15.092113Z"
    },
    "tags": []
   },
   "source": [
    "def has_complete_answer(questions):\n",
    "    # 这里假设完整答案的判断逻辑是：每个question都有一个'answer'键\n",
    "    for question in questions:\n",
    "        if 'answer' not in question:\n",
    "            return False\n",
    "    return True\n",
    "\n",
    "\n",
    "def filter_problems(data):\n",
    "    result = []\n",
    "    problem_set = set()\n",
    "\n",
    "    for item in data:\n",
    "        # print('处理的item' ,item)\n",
    "        problem = item['problem']\n",
    "        if problem in problem_set:\n",
    "            # 找到已存在的字典\n",
    "            for existing_item in result:\n",
    "                if existing_item['problem'] == problem:\n",
    "                    # 如果当前字典有完整答案，替换已存在的字典\n",
    "                    if has_complete_answer(item['questions']):\n",
    "                        existing_item['questions'] = item['questions']\n",
    "                        existing_item['id'] = item['id']\n",
    "                    break\n",
    "        else:\n",
    "            # 如果当前字典有完整答案，添加到结果列表\n",
    "            if has_complete_answer(item['questions']):\n",
    "                result.append(item)\n",
    "                problem_set.add(problem)\n",
    "\n",
    "    return result"
   ],
   "outputs": [],
   "execution_count": null
  },
  {
   "cell_type": "code",
   "metadata": {
    "execution": {
     "iopub.execute_input": "2024-07-23T15:08:17.958117Z",
     "iopub.status.busy": "2024-07-23T15:08:17.957733Z",
     "iopub.status.idle": "2024-07-23T15:08:17.978156Z",
     "shell.execute_reply": "2024-07-23T15:08:17.977693Z",
     "shell.execute_reply.started": "2024-07-23T15:08:17.958096Z"
    },
    "scrolled": true,
    "tags": []
   },
   "source": [
    "return_list\n",
    "return_list = filter_problems(return_list)\n",
    "sorted_data = sorted(return_list, key=lambda x: int(str(x['id'])[-3:]))\n",
    "print(sorted_data)"
   ],
   "outputs": [],
   "execution_count": null
  },
  {
   "cell_type": "code",
   "metadata": {
    "execution": {
     "iopub.execute_input": "2024-07-23T11:45:20.898741Z",
     "iopub.status.busy": "2024-07-23T11:45:20.898410Z",
     "iopub.status.idle": "2024-07-23T11:45:20.908563Z",
     "shell.execute_reply": "2024-07-23T11:45:20.908135Z",
     "shell.execute_reply.started": "2024-07-23T11:45:20.898721Z"
    },
    "scrolled": true,
    "tags": []
   },
   "source": [
    "sorted_data"
   ],
   "outputs": [],
   "execution_count": null
  },
  {
   "cell_type": "code",
   "metadata": {
    "ExecutionIndicator": {
     "show": true
    },
    "execution": {
     "iopub.execute_input": "2024-07-23T15:08:24.569203Z",
     "iopub.status.busy": "2024-07-23T15:08:24.568844Z",
     "iopub.status.idle": "2024-07-23T15:08:24.573494Z",
     "shell.execute_reply": "2024-07-23T15:08:24.573054Z",
     "shell.execute_reply.started": "2024-07-23T15:08:24.569183Z"
    },
    "tags": []
   },
   "source": [
    "def find_missing_ids(dict_list):\n",
    "    # 提取所有序号\n",
    "    extracted_ids = {int(d['id'][-3:]) for d in dict_list}\n",
    "\n",
    "    # 创建0-500的序号集合\n",
    "    all_ids = set(range(500))\n",
    "\n",
    "    # 找出缺失的序号\n",
    "    missing_ids = all_ids - extracted_ids\n",
    "\n",
    "    return sorted(missing_ids)\n",
    "\n",
    "\n",
    "# 示例字典列表\n",
    "dict_list = sorted_data\n",
    "\n",
    "# 找出缺失的序号\n",
    "missing_ids = find_missing_ids(dict_list)\n",
    "print(\"缺失的序号:\", missing_ids)"
   ],
   "outputs": [],
   "execution_count": null
  },
  {
   "cell_type": "code",
   "metadata": {
    "execution": {
     "iopub.execute_input": "2024-07-23T15:08:30.219175Z",
     "iopub.status.busy": "2024-07-23T15:08:30.218794Z",
     "iopub.status.idle": "2024-07-23T15:08:30.224778Z",
     "shell.execute_reply": "2024-07-23T15:08:30.223896Z",
     "shell.execute_reply.started": "2024-07-23T15:08:30.219153Z"
    },
    "tags": []
   },
   "source": [
    "len(missing_ids)"
   ],
   "outputs": [],
   "execution_count": null
  },
  {
   "cell_type": "code",
   "metadata": {
    "ExecutionIndicator": {
     "show": true
    },
    "execution": {
     "iopub.execute_input": "2024-07-23T15:08:32.688319Z",
     "iopub.status.busy": "2024-07-23T15:08:32.687963Z",
     "iopub.status.idle": "2024-07-23T15:08:32.694187Z",
     "shell.execute_reply": "2024-07-23T15:08:32.693702Z",
     "shell.execute_reply.started": "2024-07-23T15:08:32.688299Z"
    },
    "tags": []
   },
   "source": [
    "data = []\n",
    "with open('round1_test_data.jsonl') as reader:\n",
    "    for id, line in enumerate(reader):\n",
    "        if (id in missing_ids):\n",
    "            sample = json.loads(line)\n",
    "            for question in sample['questions']:\n",
    "                question['answer'] = 'A'\n",
    "            sorted_data.append(sample)\n",
    "sorted_data = sorted(sorted_data, key=lambda x: int(str(x['id'])[-3:]))\n"
   ],
   "outputs": [],
   "execution_count": null
  },
  {
   "cell_type": "code",
   "metadata": {
    "ExecutionIndicator": {
     "show": false
    },
    "execution": {
     "iopub.execute_input": "2024-07-23T15:08:35.814742Z",
     "iopub.status.busy": "2024-07-23T15:08:35.814394Z",
     "iopub.status.idle": "2024-07-23T15:08:35.826862Z",
     "shell.execute_reply": "2024-07-23T15:08:35.826219Z",
     "shell.execute_reply.started": "2024-07-23T15:08:35.814721Z"
    },
    "tags": []
   },
   "source": [
    "with open('upload-pipeline.jsonl', 'w') as writer:\n",
    "    for sample in sorted_data:\n",
    "        writer.write(json.dumps(sample, ensure_ascii=False))\n",
    "        writer.write('\\n')"
   ],
   "outputs": [],
   "execution_count": null
  },
  {
   "cell_type": "code",
   "metadata": {},
   "source": [],
   "outputs": [],
   "execution_count": null
  }
 ],
 "metadata": {
  "kernelspec": {
   "display_name": "Python 3 (ipykernel)",
   "language": "python",
   "name": "python3"
  },
  "language_info": {
   "codemirror_mode": {
    "name": "ipython",
    "version": 3
   },
   "file_extension": ".py",
   "mimetype": "text/x-python",
   "name": "python",
   "nbconvert_exporter": "python",
   "pygments_lexer": "ipython3",
   "version": "3.10.14"
  }
 },
 "nbformat": 4,
 "nbformat_minor": 4
}
