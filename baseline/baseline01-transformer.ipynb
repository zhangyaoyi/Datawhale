{
 "cells": [
  {
   "cell_type": "code",
   "metadata": {
    "ExecutionIndicator": {
     "show": true
    },
    "execution": {
     "iopub.execute_input": "2024-07-23T14:31:45.888676Z",
     "iopub.status.busy": "2024-07-23T14:31:45.888353Z",
     "iopub.status.idle": "2024-07-23T14:31:45.896447Z",
     "shell.execute_reply": "2024-07-23T14:31:45.895860Z",
     "shell.execute_reply.started": "2024-07-23T14:31:45.888657Z"
    },
    "tags": [],
    "ExecuteTime": {
     "end_time": "2024-07-25T16:44:56.701457Z",
     "start_time": "2024-07-25T16:44:56.002381Z"
    }
   },
   "source": [
    "import os\n",
    "import re\n",
    "import time\n",
    "import json\n",
    "import torch\n",
    "from loguru import logger\n",
    "from tqdm import tqdm\n",
    "from transformers import AutoModelForCausalLM, AutoTokenizer, pipelines\n",
    "from concurrent.futures import ThreadPoolExecutor, as_completed\n",
    "\n",
    "MODEL_NAME = 'Qwen/Qwen2-7B-Instruct'"
   ],
   "outputs": [],
   "execution_count": 1
  },
  {
   "cell_type": "code",
   "metadata": {
    "execution": {
     "iopub.execute_input": "2024-07-23T13:12:55.545059Z",
     "iopub.status.busy": "2024-07-23T13:12:55.544701Z",
     "iopub.status.idle": "2024-07-23T13:12:55.549173Z",
     "shell.execute_reply": "2024-07-23T13:12:55.548699Z",
     "shell.execute_reply.started": "2024-07-23T13:12:55.545039Z"
    },
    "tags": [],
    "ExecuteTime": {
     "end_time": "2024-07-25T16:44:56.710656Z",
     "start_time": "2024-07-25T16:44:56.708519Z"
    }
   },
   "source": [
    "def call_qwen_api(MODEL_NAME, query):\n",
    "    \n",
    "    model = AutoModelForCausalLM.from_pretrained(\n",
    "        MODEL_NAME,\n",
    "        torch_dtype=torch.float16,\n",
    "        device_map=\"cuda\"\n",
    "    )\n",
    "    tokenizer = AutoTokenizer.from_pretrained(MODEL_NAME)\n",
    "    text = tokenizer.apply_chat_template(\n",
    "        query,\n",
    "        tokenize=False,\n",
    "        add_generation_prompt=True\n",
    "    )\n",
    "    model_inputs = tokenizer([text], return_tensors=\"pt\").to(\"cuda\")\n",
    "    generated_ids = model.generate(\n",
    "        model_inputs.input_ids,\n",
    "        max_new_tokens=512\n",
    "    )\n",
    "    generated_ids = [\n",
    "        output_ids[len(input_ids):] for input_ids, output_ids in zip(model_inputs.input_ids, generated_ids)\n",
    "    ]\n",
    "\n",
    "    response = tokenizer.batch_decode(generated_ids, skip_special_tokens=True)\n",
    "    return response[0]"
   ],
   "outputs": [],
   "execution_count": 2
  },
  {
   "cell_type": "code",
   "metadata": {
    "ExecutionIndicator": {
     "show": true
    },
    "execution": {
     "iopub.execute_input": "2024-07-23T13:12:58.489594Z",
     "iopub.status.busy": "2024-07-23T13:12:58.489254Z",
     "iopub.status.idle": "2024-07-23T13:12:58.493048Z",
     "shell.execute_reply": "2024-07-23T13:12:58.492553Z",
     "shell.execute_reply.started": "2024-07-23T13:12:58.489574Z"
    },
    "tags": [],
    "ExecuteTime": {
     "end_time": "2024-07-25T16:44:56.723798Z",
     "start_time": "2024-07-25T16:44:56.711057Z"
    }
   },
   "source": [
    "# 这里定义了prompt推理模版\n",
    "\n",
    "def get_prompt(problem, question, options):\n",
    "    options = '\\n'.join(f\"{'ABCDEFG'[i]}. {o}\" for i, o in enumerate(options))\n",
    "\n",
    "    prompt = f\"\"\"你是一个逻辑推理专家，擅长解决逻辑推理问题。以下是一个逻辑推理的题目，形式为单项选择题。所有的问题都是（close-world assumption）闭世界假设，即未观测事实都为假。请逐步分析问题并在最后一行输出答案，最后一行的格式为\"答案是：A\"。题目如下：\n",
    "\n",
    "### 题目:\n",
    "{problem}\n",
    "\n",
    "### 问题:\n",
    "{question}\n",
    "{options}\n",
    "\"\"\"\n",
    "    return prompt\n"
   ],
   "outputs": [],
   "execution_count": 3
  },
  {
   "cell_type": "code",
   "metadata": {
    "execution": {
     "iopub.execute_input": "2024-07-23T13:13:00.496652Z",
     "iopub.status.busy": "2024-07-23T13:13:00.496328Z",
     "iopub.status.idle": "2024-07-23T13:13:00.499923Z",
     "shell.execute_reply": "2024-07-23T13:13:00.499471Z",
     "shell.execute_reply.started": "2024-07-23T13:13:00.496633Z"
    },
    "tags": [],
    "ExecuteTime": {
     "end_time": "2024-07-25T16:44:56.730432Z",
     "start_time": "2024-07-25T16:44:56.724446Z"
    }
   },
   "source": [
    "# 这里使用extract抽取模获得抽取的结果\n",
    "\n",
    "def extract(input_text):\n",
    "    ans_pattern = re.compile(r\"答案是：(.)\", re.S)\n",
    "\n",
    "    problems = ans_pattern.findall(input_text)\n",
    "    # print(problems)\n",
    "    if (problems == ''):\n",
    "        return 'A'\n",
    "    return problems[0]"
   ],
   "outputs": [],
   "execution_count": 4
  },
  {
   "cell_type": "code",
   "metadata": {
    "ExecutionIndicator": {
     "show": true
    },
    "execution": {
     "iopub.execute_input": "2024-07-23T13:13:01.438679Z",
     "iopub.status.busy": "2024-07-23T13:13:01.438335Z",
     "iopub.status.idle": "2024-07-23T13:13:01.444335Z",
     "shell.execute_reply": "2024-07-23T13:13:01.443867Z",
     "shell.execute_reply.started": "2024-07-23T13:13:01.438658Z"
    },
    "tags": [],
    "ExecuteTime": {
     "end_time": "2024-07-25T16:44:56.736684Z",
     "start_time": "2024-07-25T16:44:56.730836Z"
    }
   },
   "source": [
    "def process_datas(datas, MODEL_NAME):\n",
    "    results = []\n",
    "\n",
    "    future_data = {}\n",
    "    lens = 0\n",
    "    for data in tqdm(datas, desc=\"Submitting tasks\", total=len(datas)):\n",
    "        \n",
    "        problem = data['problem']\n",
    "        for id, question in enumerate(data['questions']):\n",
    "            prompt = get_prompt(problem,\n",
    "                                question['question'],\n",
    "                                question['options'],\n",
    "                                )\n",
    "            messages = [{'role': 'user', 'content': prompt}]\n",
    "            future = call_qwen_api(MODEL_NAME, messages)\n",
    "            future_data[future] = (data, id)\n",
    "            lens += 1\n",
    "    for future in tqdm(future_data, total=lens, desc=\"Processing tasks\"):\n",
    "        data = future_data[future][0]\n",
    "        problem_id = future_data[future][1]\n",
    "        try:\n",
    "            res = future\n",
    "            extract_response = extract(res)\n",
    "            data['questions'][problem_id]['answer'] = extract_response\n",
    "            results.append(data)\n",
    "        except Exception as e:\n",
    "            logger.error(f\"Failed to process text: {data}. Error: {e}\")\n",
    "\n",
    "    return results"
   ],
   "outputs": [],
   "execution_count": 5
  },
  {
   "cell_type": "code",
   "metadata": {
    "ExecutionIndicator": {
     "show": true
    },
    "execution": {
     "iopub.execute_input": "2024-07-23T13:13:28.728243Z",
     "iopub.status.busy": "2024-07-23T13:13:28.727629Z",
     "iopub.status.idle": "2024-07-23T13:13:28.733306Z",
     "shell.execute_reply": "2024-07-23T13:13:28.732750Z",
     "shell.execute_reply.started": "2024-07-23T13:13:28.728200Z"
    },
    "tags": [],
    "ExecuteTime": {
     "end_time": "2024-07-25T16:44:56.744516Z",
     "start_time": "2024-07-25T16:44:56.737323Z"
    }
   },
   "source": [
    "def main(ifn, ofn):\n",
    "    if os.path.exists(ofn):\n",
    "        pass\n",
    "    data = []\n",
    "    # 按行读取数据\n",
    "    with open(ifn) as reader:\n",
    "        for line in reader:\n",
    "            sample = json.loads(line)\n",
    "            data.append(sample)\n",
    "    datas = data\n",
    "    # print(data)\n",
    "    # 均匀地分成多个数据集\n",
    "    return_list = process_datas(datas, MODEL_NAME)\n",
    "    print(len(return_list))\n",
    "    print(\"All tasks finished!\")\n",
    "    return return_list"
   ],
   "outputs": [],
   "execution_count": 6
  },
  {
   "cell_type": "code",
   "metadata": {
    "execution": {
     "iopub.execute_input": "2024-07-23T13:13:29.933908Z",
     "iopub.status.busy": "2024-07-23T13:13:29.933519Z",
     "iopub.status.idle": "2024-07-23T13:13:29.937730Z",
     "shell.execute_reply": "2024-07-23T13:13:29.937287Z",
     "shell.execute_reply.started": "2024-07-23T13:13:29.933885Z"
    },
    "tags": [],
    "ExecuteTime": {
     "end_time": "2024-07-25T16:44:56.751399Z",
     "start_time": "2024-07-25T16:44:56.745361Z"
    }
   },
   "source": [
    "def evaluate(ofn):\n",
    "    data = []\n",
    "    with open(ofn) as reader:\n",
    "        for line in reader:\n",
    "            sample = json.loads(line)\n",
    "            data.append(sample)\n",
    "\n",
    "    pse = 0\n",
    "    cnt = 0\n",
    "    tot = 0\n",
    "    for task in data:\n",
    "        for question in task['questions']:\n",
    "\n",
    "            if MODEL_NAME in question:\n",
    "                tot += 1\n",
    "                cnt += question[MODEL_NAME] == question['answer']\n",
    "            else:\n",
    "                pse += 1\n",
    "\n",
    "    print(cnt, tot, cnt / tot, pse)"
   ],
   "outputs": [],
   "execution_count": 7
  },
  {
   "cell_type": "code",
   "metadata": {
    "execution": {
     "iopub.execute_input": "2024-07-23T14:31:54.895250Z",
     "iopub.status.busy": "2024-07-23T14:31:54.894923Z",
     "iopub.status.idle": "2024-07-23T14:56:03.236607Z",
     "shell.execute_reply": "2024-07-23T14:56:03.236089Z",
     "shell.execute_reply.started": "2024-07-23T14:31:54.895230Z"
    },
    "scrolled": true,
    "tags": [],
    "jupyter": {
     "is_executing": true
    },
    "ExecuteTime": {
     "start_time": "2024-07-25T16:44:56.752433Z"
    }
   },
   "source": [
    "if __name__ == '__main__':\n",
    "    return_list = main('round1_test_data.jsonl', 'upload.jsonl')\n"
   ],
   "outputs": [
    {
     "name": "stderr",
     "output_type": "stream",
     "text": [
      "Submitting tasks:   0%|          | 0/500 [00:00<?, ?it/s]"
     ]
    },
    {
     "data": {
      "text/plain": [
       "Loading checkpoint shards:   0%|          | 0/4 [00:00<?, ?it/s]"
      ],
      "application/vnd.jupyter.widget-view+json": {
       "version_major": 2,
       "version_minor": 0,
       "model_id": "49ed6ffdd48940e3ab4df281d70f1706"
      }
     },
     "metadata": {},
     "output_type": "display_data"
    },
    {
     "name": "stderr",
     "output_type": "stream",
     "text": [
      "The attention mask is not set and cannot be inferred from input because pad token is same as eos token.As a consequence, you may observe unexpected behavior. Please pass your input's `attention_mask` to obtain reliable results.\n",
      "Submitting tasks:   0%|          | 1/500 [00:07<1:00:25,  7.27s/it]"
     ]
    },
    {
     "data": {
      "text/plain": [
       "Loading checkpoint shards:   0%|          | 0/4 [00:00<?, ?it/s]"
      ],
      "application/vnd.jupyter.widget-view+json": {
       "version_major": 2,
       "version_minor": 0,
       "model_id": "9d222a9bc8b545afb167cf131a3abe0b"
      }
     },
     "metadata": {},
     "output_type": "display_data"
    },
    {
     "data": {
      "text/plain": [
       "Loading checkpoint shards:   0%|          | 0/4 [00:00<?, ?it/s]"
      ],
      "application/vnd.jupyter.widget-view+json": {
       "version_major": 2,
       "version_minor": 0,
       "model_id": "50e3eb55395a43cea531212d684ab1ad"
      }
     },
     "metadata": {},
     "output_type": "display_data"
    },
    {
     "data": {
      "text/plain": [
       "Loading checkpoint shards:   0%|          | 0/4 [00:00<?, ?it/s]"
      ],
      "application/vnd.jupyter.widget-view+json": {
       "version_major": 2,
       "version_minor": 0,
       "model_id": "a6516f3c0a04467fa6a031fdf1ee56c7"
      }
     },
     "metadata": {},
     "output_type": "display_data"
    },
    {
     "name": "stderr",
     "output_type": "stream",
     "text": [
      "Submitting tasks:   0%|          | 2/500 [00:29<2:14:13, 16.17s/it]"
     ]
    },
    {
     "data": {
      "text/plain": [
       "Loading checkpoint shards:   0%|          | 0/4 [00:00<?, ?it/s]"
      ],
      "application/vnd.jupyter.widget-view+json": {
       "version_major": 2,
       "version_minor": 0,
       "model_id": "f12eeafd89d24b34a2c846fb785d1e05"
      }
     },
     "metadata": {},
     "output_type": "display_data"
    },
    {
     "name": "stderr",
     "output_type": "stream",
     "text": [
      "Submitting tasks:   1%|          | 3/500 [00:34<1:29:52, 10.85s/it]"
     ]
    },
    {
     "data": {
      "text/plain": [
       "Loading checkpoint shards:   0%|          | 0/4 [00:00<?, ?it/s]"
      ],
      "application/vnd.jupyter.widget-view+json": {
       "version_major": 2,
       "version_minor": 0,
       "model_id": "3cf79883fa6645c2bbb97bcfa26509b3"
      }
     },
     "metadata": {},
     "output_type": "display_data"
    },
    {
     "data": {
      "text/plain": [
       "Loading checkpoint shards:   0%|          | 0/4 [00:00<?, ?it/s]"
      ],
      "application/vnd.jupyter.widget-view+json": {
       "version_major": 2,
       "version_minor": 0,
       "model_id": "2405220b71214143bc1ecefe9d8eefbd"
      }
     },
     "metadata": {},
     "output_type": "display_data"
    },
    {
     "data": {
      "text/plain": [
       "Loading checkpoint shards:   0%|          | 0/4 [00:00<?, ?it/s]"
      ],
      "application/vnd.jupyter.widget-view+json": {
       "version_major": 2,
       "version_minor": 0,
       "model_id": "ce5c31d4c5bd49468f5ee5bbebd7fa70"
      }
     },
     "metadata": {},
     "output_type": "display_data"
    },
    {
     "data": {
      "text/plain": [
       "Loading checkpoint shards:   0%|          | 0/4 [00:00<?, ?it/s]"
      ],
      "application/vnd.jupyter.widget-view+json": {
       "version_major": 2,
       "version_minor": 0,
       "model_id": "81a5c464a6c24f7789255f813e712a77"
      }
     },
     "metadata": {},
     "output_type": "display_data"
    },
    {
     "name": "stderr",
     "output_type": "stream",
     "text": [
      "Submitting tasks:   1%|          | 4/500 [01:03<2:29:49, 18.12s/it]"
     ]
    },
    {
     "data": {
      "text/plain": [
       "Loading checkpoint shards:   0%|          | 0/4 [00:00<?, ?it/s]"
      ],
      "application/vnd.jupyter.widget-view+json": {
       "version_major": 2,
       "version_minor": 0,
       "model_id": "c847bad588744437aad16cdd1826166e"
      }
     },
     "metadata": {},
     "output_type": "display_data"
    },
    {
     "data": {
      "text/plain": [
       "Loading checkpoint shards:   0%|          | 0/4 [00:00<?, ?it/s]"
      ],
      "application/vnd.jupyter.widget-view+json": {
       "version_major": 2,
       "version_minor": 0,
       "model_id": "7116eaf67c9b456fb457230cdea2700f"
      }
     },
     "metadata": {},
     "output_type": "display_data"
    },
    {
     "data": {
      "text/plain": [
       "Loading checkpoint shards:   0%|          | 0/4 [00:00<?, ?it/s]"
      ],
      "application/vnd.jupyter.widget-view+json": {
       "version_major": 2,
       "version_minor": 0,
       "model_id": "65bcdeb6676848c9a82a1980255122b2"
      }
     },
     "metadata": {},
     "output_type": "display_data"
    },
    {
     "data": {
      "text/plain": [
       "Loading checkpoint shards:   0%|          | 0/4 [00:00<?, ?it/s]"
      ],
      "application/vnd.jupyter.widget-view+json": {
       "version_major": 2,
       "version_minor": 0,
       "model_id": "a53132938d5a45d9a46c6b6bcf5d0bd6"
      }
     },
     "metadata": {},
     "output_type": "display_data"
    },
    {
     "name": "stderr",
     "output_type": "stream",
     "text": [
      "Submitting tasks:   1%|          | 5/500 [01:25<2:41:30, 19.58s/it]"
     ]
    },
    {
     "data": {
      "text/plain": [
       "Loading checkpoint shards:   0%|          | 0/4 [00:00<?, ?it/s]"
      ],
      "application/vnd.jupyter.widget-view+json": {
       "version_major": 2,
       "version_minor": 0,
       "model_id": "37b7ec79916941a4b84240c8def82642"
      }
     },
     "metadata": {},
     "output_type": "display_data"
    },
    {
     "name": "stderr",
     "output_type": "stream",
     "text": [
      "Submitting tasks:   1%|          | 6/500 [01:31<2:02:09, 14.84s/it]"
     ]
    },
    {
     "data": {
      "text/plain": [
       "Loading checkpoint shards:   0%|          | 0/4 [00:00<?, ?it/s]"
      ],
      "application/vnd.jupyter.widget-view+json": {
       "version_major": 2,
       "version_minor": 0,
       "model_id": "477870adac9d425ea6fc0b08a03c3b1a"
      }
     },
     "metadata": {},
     "output_type": "display_data"
    },
    {
     "data": {
      "text/plain": [
       "Loading checkpoint shards:   0%|          | 0/4 [00:00<?, ?it/s]"
      ],
      "application/vnd.jupyter.widget-view+json": {
       "version_major": 2,
       "version_minor": 0,
       "model_id": "0d41da63d9b24c5cb41373cae071a814"
      }
     },
     "metadata": {},
     "output_type": "display_data"
    },
    {
     "data": {
      "text/plain": [
       "Loading checkpoint shards:   0%|          | 0/4 [00:00<?, ?it/s]"
      ],
      "application/vnd.jupyter.widget-view+json": {
       "version_major": 2,
       "version_minor": 0,
       "model_id": "1237617b060a484b85faf7e639948293"
      }
     },
     "metadata": {},
     "output_type": "display_data"
    },
    {
     "data": {
      "text/plain": [
       "Loading checkpoint shards:   0%|          | 0/4 [00:00<?, ?it/s]"
      ],
      "application/vnd.jupyter.widget-view+json": {
       "version_major": 2,
       "version_minor": 0,
       "model_id": "2c070fe0d1694ee4963388389fddcf2a"
      }
     },
     "metadata": {},
     "output_type": "display_data"
    },
    {
     "name": "stderr",
     "output_type": "stream",
     "text": [
      "Submitting tasks:   1%|▏         | 7/500 [02:04<2:50:57, 20.81s/it]"
     ]
    },
    {
     "data": {
      "text/plain": [
       "Loading checkpoint shards:   0%|          | 0/4 [00:00<?, ?it/s]"
      ],
      "application/vnd.jupyter.widget-view+json": {
       "version_major": 2,
       "version_minor": 0,
       "model_id": "17a03dad86c0466d818c54ae4ab78924"
      }
     },
     "metadata": {},
     "output_type": "display_data"
    },
    {
     "name": "stderr",
     "output_type": "stream",
     "text": [
      "Submitting tasks:   2%|▏         | 8/500 [02:12<2:18:31, 16.89s/it]"
     ]
    },
    {
     "data": {
      "text/plain": [
       "Loading checkpoint shards:   0%|          | 0/4 [00:00<?, ?it/s]"
      ],
      "application/vnd.jupyter.widget-view+json": {
       "version_major": 2,
       "version_minor": 0,
       "model_id": "093db4cdf1ca4fb895ee74fbf8cd4c91"
      }
     },
     "metadata": {},
     "output_type": "display_data"
    },
    {
     "data": {
      "text/plain": [
       "Loading checkpoint shards:   0%|          | 0/4 [00:00<?, ?it/s]"
      ],
      "application/vnd.jupyter.widget-view+json": {
       "version_major": 2,
       "version_minor": 0,
       "model_id": "f8eebf4dfc4746a2800d4c0d1f3a8d72"
      }
     },
     "metadata": {},
     "output_type": "display_data"
    },
    {
     "name": "stderr",
     "output_type": "stream",
     "text": [
      "Submitting tasks:   2%|▏         | 9/500 [02:26<2:10:24, 15.94s/it]"
     ]
    },
    {
     "data": {
      "text/plain": [
       "Loading checkpoint shards:   0%|          | 0/4 [00:00<?, ?it/s]"
      ],
      "application/vnd.jupyter.widget-view+json": {
       "version_major": 2,
       "version_minor": 0,
       "model_id": "239e6883dce74c0a90517899e99d774e"
      }
     },
     "metadata": {},
     "output_type": "display_data"
    },
    {
     "data": {
      "text/plain": [
       "Loading checkpoint shards:   0%|          | 0/4 [00:00<?, ?it/s]"
      ],
      "application/vnd.jupyter.widget-view+json": {
       "version_major": 2,
       "version_minor": 0,
       "model_id": "c57a4b7e29ad4dd9bc04710e4280f443"
      }
     },
     "metadata": {},
     "output_type": "display_data"
    },
    {
     "data": {
      "text/plain": [
       "Loading checkpoint shards:   0%|          | 0/4 [00:00<?, ?it/s]"
      ],
      "application/vnd.jupyter.widget-view+json": {
       "version_major": 2,
       "version_minor": 0,
       "model_id": "e303c484a7a148d19e9c4edb92e55b81"
      }
     },
     "metadata": {},
     "output_type": "display_data"
    },
    {
     "data": {
      "text/plain": [
       "Loading checkpoint shards:   0%|          | 0/4 [00:00<?, ?it/s]"
      ],
      "application/vnd.jupyter.widget-view+json": {
       "version_major": 2,
       "version_minor": 0,
       "model_id": "ad6a744b8909400da16deead693cbb5c"
      }
     },
     "metadata": {},
     "output_type": "display_data"
    },
    {
     "name": "stderr",
     "output_type": "stream",
     "text": [
      "Submitting tasks:   2%|▏         | 10/500 [02:50<2:30:19, 18.41s/it]"
     ]
    },
    {
     "data": {
      "text/plain": [
       "Loading checkpoint shards:   0%|          | 0/4 [00:00<?, ?it/s]"
      ],
      "application/vnd.jupyter.widget-view+json": {
       "version_major": 2,
       "version_minor": 0,
       "model_id": "e305cf729dbb4735acd307213a28214d"
      }
     },
     "metadata": {},
     "output_type": "display_data"
    },
    {
     "data": {
      "text/plain": [
       "Loading checkpoint shards:   0%|          | 0/4 [00:00<?, ?it/s]"
      ],
      "application/vnd.jupyter.widget-view+json": {
       "version_major": 2,
       "version_minor": 0,
       "model_id": "18d91311fd964212a18f0f9c2ecc145c"
      }
     },
     "metadata": {},
     "output_type": "display_data"
    },
    {
     "name": "stderr",
     "output_type": "stream",
     "text": [
      "Submitting tasks:   2%|▏         | 11/500 [03:09<2:31:42, 18.61s/it]"
     ]
    },
    {
     "data": {
      "text/plain": [
       "Loading checkpoint shards:   0%|          | 0/4 [00:00<?, ?it/s]"
      ],
      "application/vnd.jupyter.widget-view+json": {
       "version_major": 2,
       "version_minor": 0,
       "model_id": "6e1908f6fbf94d77b784f55cffe86c00"
      }
     },
     "metadata": {},
     "output_type": "display_data"
    },
    {
     "data": {
      "text/plain": [
       "Loading checkpoint shards:   0%|          | 0/4 [00:00<?, ?it/s]"
      ],
      "application/vnd.jupyter.widget-view+json": {
       "version_major": 2,
       "version_minor": 0,
       "model_id": "6c92fa0e355140b6881ff356c8939e3d"
      }
     },
     "metadata": {},
     "output_type": "display_data"
    },
    {
     "name": "stderr",
     "output_type": "stream",
     "text": [
      "Submitting tasks:   2%|▏         | 12/500 [03:30<2:37:09, 19.32s/it]"
     ]
    },
    {
     "data": {
      "text/plain": [
       "Loading checkpoint shards:   0%|          | 0/4 [00:00<?, ?it/s]"
      ],
      "application/vnd.jupyter.widget-view+json": {
       "version_major": 2,
       "version_minor": 0,
       "model_id": "d2a4fc607ad74bc883087c26bebe7c56"
      }
     },
     "metadata": {},
     "output_type": "display_data"
    },
    {
     "data": {
      "text/plain": [
       "Loading checkpoint shards:   0%|          | 0/4 [00:00<?, ?it/s]"
      ],
      "application/vnd.jupyter.widget-view+json": {
       "version_major": 2,
       "version_minor": 0,
       "model_id": "8a6b897537ae4e4da71a66b03124a191"
      }
     },
     "metadata": {},
     "output_type": "display_data"
    },
    {
     "name": "stderr",
     "output_type": "stream",
     "text": [
      "Submitting tasks:   3%|▎         | 13/500 [03:44<2:24:05, 17.75s/it]"
     ]
    },
    {
     "data": {
      "text/plain": [
       "Loading checkpoint shards:   0%|          | 0/4 [00:00<?, ?it/s]"
      ],
      "application/vnd.jupyter.widget-view+json": {
       "version_major": 2,
       "version_minor": 0,
       "model_id": "5b989684719c432f880afa5743b849cc"
      }
     },
     "metadata": {},
     "output_type": "display_data"
    }
   ],
   "execution_count": null
  },
  {
   "cell_type": "code",
   "metadata": {
    "execution": {
     "iopub.execute_input": "2024-07-23T15:08:15.092136Z",
     "iopub.status.busy": "2024-07-23T15:08:15.091737Z",
     "iopub.status.idle": "2024-07-23T15:08:15.096751Z",
     "shell.execute_reply": "2024-07-23T15:08:15.096296Z",
     "shell.execute_reply.started": "2024-07-23T15:08:15.092113Z"
    },
    "tags": [],
    "jupyter": {
     "is_executing": true
    }
   },
   "source": [
    "def has_complete_answer(questions):\n",
    "    # 这里假设完整答案的判断逻辑是：每个question都有一个'answer'键\n",
    "    for question in questions:\n",
    "        if 'answer' not in question:\n",
    "            return False\n",
    "    return True\n",
    "\n",
    "\n",
    "def filter_problems(data):\n",
    "    result = []\n",
    "    problem_set = set()\n",
    "\n",
    "    for item in data:\n",
    "        # print('处理的item' ,item)\n",
    "        problem = item['problem']\n",
    "        if problem in problem_set:\n",
    "            # 找到已存在的字典\n",
    "            for existing_item in result:\n",
    "                if existing_item['problem'] == problem:\n",
    "                    # 如果当前字典有完整答案，替换已存在的字典\n",
    "                    if has_complete_answer(item['questions']):\n",
    "                        existing_item['questions'] = item['questions']\n",
    "                        existing_item['id'] = item['id']\n",
    "                    break\n",
    "        else:\n",
    "            # 如果当前字典有完整答案，添加到结果列表\n",
    "            if has_complete_answer(item['questions']):\n",
    "                result.append(item)\n",
    "                problem_set.add(problem)\n",
    "\n",
    "    return result"
   ],
   "outputs": [],
   "execution_count": null
  },
  {
   "cell_type": "code",
   "metadata": {
    "execution": {
     "iopub.execute_input": "2024-07-23T15:08:17.958117Z",
     "iopub.status.busy": "2024-07-23T15:08:17.957733Z",
     "iopub.status.idle": "2024-07-23T15:08:17.978156Z",
     "shell.execute_reply": "2024-07-23T15:08:17.977693Z",
     "shell.execute_reply.started": "2024-07-23T15:08:17.958096Z"
    },
    "scrolled": true,
    "tags": [],
    "jupyter": {
     "is_executing": true
    }
   },
   "source": [
    "return_list\n",
    "return_list = filter_problems(return_list)\n",
    "sorted_data = sorted(return_list, key=lambda x: int(str(x['id'])[-3:]))\n",
    "print(sorted_data)"
   ],
   "outputs": [],
   "execution_count": null
  },
  {
   "cell_type": "code",
   "metadata": {
    "execution": {
     "iopub.execute_input": "2024-07-23T11:45:20.898741Z",
     "iopub.status.busy": "2024-07-23T11:45:20.898410Z",
     "iopub.status.idle": "2024-07-23T11:45:20.908563Z",
     "shell.execute_reply": "2024-07-23T11:45:20.908135Z",
     "shell.execute_reply.started": "2024-07-23T11:45:20.898721Z"
    },
    "scrolled": true,
    "tags": [],
    "jupyter": {
     "is_executing": true
    }
   },
   "source": [
    "sorted_data"
   ],
   "outputs": [],
   "execution_count": null
  },
  {
   "cell_type": "code",
   "metadata": {
    "ExecutionIndicator": {
     "show": true
    },
    "execution": {
     "iopub.execute_input": "2024-07-23T15:08:24.569203Z",
     "iopub.status.busy": "2024-07-23T15:08:24.568844Z",
     "iopub.status.idle": "2024-07-23T15:08:24.573494Z",
     "shell.execute_reply": "2024-07-23T15:08:24.573054Z",
     "shell.execute_reply.started": "2024-07-23T15:08:24.569183Z"
    },
    "tags": [],
    "jupyter": {
     "is_executing": true
    }
   },
   "source": [
    "def find_missing_ids(dict_list):\n",
    "    # 提取所有序号\n",
    "    extracted_ids = {int(d['id'][-3:]) for d in dict_list}\n",
    "\n",
    "    # 创建0-500的序号集合\n",
    "    all_ids = set(range(500))\n",
    "\n",
    "    # 找出缺失的序号\n",
    "    missing_ids = all_ids - extracted_ids\n",
    "\n",
    "    return sorted(missing_ids)\n",
    "\n",
    "\n",
    "# 示例字典列表\n",
    "dict_list = sorted_data\n",
    "\n",
    "# 找出缺失的序号\n",
    "missing_ids = find_missing_ids(dict_list)\n",
    "print(\"缺失的序号:\", missing_ids)"
   ],
   "outputs": [],
   "execution_count": null
  },
  {
   "cell_type": "code",
   "metadata": {
    "execution": {
     "iopub.execute_input": "2024-07-23T15:08:30.219175Z",
     "iopub.status.busy": "2024-07-23T15:08:30.218794Z",
     "iopub.status.idle": "2024-07-23T15:08:30.224778Z",
     "shell.execute_reply": "2024-07-23T15:08:30.223896Z",
     "shell.execute_reply.started": "2024-07-23T15:08:30.219153Z"
    },
    "tags": [],
    "jupyter": {
     "is_executing": true
    }
   },
   "source": [
    "len(missing_ids)"
   ],
   "outputs": [],
   "execution_count": null
  },
  {
   "cell_type": "code",
   "metadata": {
    "ExecutionIndicator": {
     "show": true
    },
    "execution": {
     "iopub.execute_input": "2024-07-23T15:08:32.688319Z",
     "iopub.status.busy": "2024-07-23T15:08:32.687963Z",
     "iopub.status.idle": "2024-07-23T15:08:32.694187Z",
     "shell.execute_reply": "2024-07-23T15:08:32.693702Z",
     "shell.execute_reply.started": "2024-07-23T15:08:32.688299Z"
    },
    "tags": [],
    "jupyter": {
     "is_executing": true
    }
   },
   "source": [
    "data = []\n",
    "with open('round1_test_data.jsonl') as reader:\n",
    "    for id, line in enumerate(reader):\n",
    "        if (id in missing_ids):\n",
    "            sample = json.loads(line)\n",
    "            for question in sample['questions']:\n",
    "                question['answer'] = 'A'\n",
    "            sorted_data.append(sample)\n",
    "sorted_data = sorted(sorted_data, key=lambda x: int(str(x['id'])[-3:]))\n"
   ],
   "execution_count": null,
   "outputs": []
  },
  {
   "cell_type": "code",
   "metadata": {
    "ExecutionIndicator": {
     "show": false
    },
    "execution": {
     "iopub.execute_input": "2024-07-23T15:08:35.814742Z",
     "iopub.status.busy": "2024-07-23T15:08:35.814394Z",
     "iopub.status.idle": "2024-07-23T15:08:35.826862Z",
     "shell.execute_reply": "2024-07-23T15:08:35.826219Z",
     "shell.execute_reply.started": "2024-07-23T15:08:35.814721Z"
    },
    "tags": [],
    "jupyter": {
     "is_executing": true
    }
   },
   "source": [
    "with open('upload-pipeline.jsonl', 'w') as writer:\n",
    "    for sample in sorted_data:\n",
    "        writer.write(json.dumps(sample, ensure_ascii=False))\n",
    "        writer.write('\\n')"
   ],
   "outputs": [],
   "execution_count": null
  },
  {
   "cell_type": "code",
   "metadata": {
    "jupyter": {
     "is_executing": true
    }
   },
   "source": [],
   "outputs": [],
   "execution_count": null
  }
 ],
 "metadata": {
  "kernelspec": {
   "display_name": "Python 3 (ipykernel)",
   "language": "python",
   "name": "python3"
  },
  "language_info": {
   "codemirror_mode": {
    "name": "ipython",
    "version": 3
   },
   "file_extension": ".py",
   "mimetype": "text/x-python",
   "name": "python",
   "nbconvert_exporter": "python",
   "pygments_lexer": "ipython3",
   "version": "3.10.14"
  }
 },
 "nbformat": 4,
 "nbformat_minor": 4
}
